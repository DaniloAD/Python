{
  "nbformat": 4,
  "nbformat_minor": 0,
  "metadata": {
    "colab": {
      "name": "Python_Analytics_2___Estruturas_de_Dados_em_Python.ipynb",
      "provenance": [],
      "collapsed_sections": [],
      "include_colab_link": true
    },
    "kernelspec": {
      "name": "python3",
      "display_name": "Python 3"
    },
    "language_info": {
      "name": "python"
    }
  },
  "cells": [
    {
      "cell_type": "markdown",
      "metadata": {
        "id": "view-in-github",
        "colab_type": "text"
      },
      "source": [
        "<a href=\"https://colab.research.google.com/github/DaniloAD/Python/blob/main/Python_Analytics_2___Estruturas_de_Dados_em_Python_Resolvido.ipynb\" target=\"_parent\"><img src=\"https://colab.research.google.com/assets/colab-badge.svg\" alt=\"Open In Colab\"/></a>"
      ]
    },
    {
      "cell_type": "markdown",
      "metadata": {
        "id": "07O8WsC4OuCG"
      },
      "source": [
        "![picture](https://minerador.es/wp-content/uploads/2020/10/sticky-lg.png)"
      ]
    },
    {
      "cell_type": "markdown",
      "metadata": {
        "id": "KIFJmPRqOvae"
      },
      "source": [
        "# Python Analytics #2 | **Estruturas de Dados em Python**\n",
        "*Prof. Orlando Junior*"
      ]
    },
    {
      "cell_type": "markdown",
      "metadata": {
        "id": "YrPy7B7xKZdJ"
      },
      "source": [
        "---"
      ]
    },
    {
      "cell_type": "markdown",
      "metadata": {
        "id": "zv__2EFBKEO8"
      },
      "source": [
        "**Conteúdo**\n",
        "\n",
        "1. Arranjos, vetores e matrizes\n",
        "2. Listas\n",
        "3. Tuplas\n",
        "4. Sequências\n",
        "5. Sets\n",
        "6. Dicionários\n",
        "7. Exercícios"
      ]
    },
    {
      "cell_type": "markdown",
      "metadata": {
        "id": "coMMxVIkKatB"
      },
      "source": [
        "---"
      ]
    },
    {
      "cell_type": "markdown",
      "metadata": {
        "id": "WI9-fRx2PSSJ"
      },
      "source": [
        "## Arranjos, vetores e matrizes"
      ]
    },
    {
      "cell_type": "markdown",
      "metadata": {
        "id": "131R_i32Q-1I"
      },
      "source": [
        "A variável é capaz de armazenar apenas um valor de cada vez, mas existem situações em que há necessidade de armazenar uma grande quantidade de valores e para isso não iremos declarar e utilizar várias variáveis.\n",
        "\n",
        "* Um **arranjo** (*array*) é um grupo/conjunto de elementos ou itens que respondem a um mesmo nome e que podem ser acessados segundo a posição que ocupam dentro do arranjo.\n",
        "* Cada `elemento` de um arranjo está em determinada `posição` e armazena um `valor`, sendo que cada posição é associada a um `índice`."
      ]
    },
    {
      "cell_type": "markdown",
      "metadata": {
        "id": "ItmYjeF3Vv-3"
      },
      "source": [
        "![picture](https://ifrnead.github.io/rubynapratica/assets/images/estrutura-array.png)"
      ]
    },
    {
      "cell_type": "markdown",
      "metadata": {
        "id": "bWV6HI11WEqX"
      },
      "source": [
        "Um arranjo não pode ter seu tamanho modificado durante a execução do algoritmo. Ele poderá ter várias dimensões:\n",
        "* **Vetores** são arranjos unidimensionais (um índice);\n",
        "* **Matrizes** são arranjos bidimensionais (dois ou mais índices);\n",
        "* **Tensores** são arranjos multidimensionais."
      ]
    },
    {
      "cell_type": "markdown",
      "metadata": {
        "id": "FzdkioagW09X"
      },
      "source": [
        "**Vetores**"
      ]
    },
    {
      "cell_type": "code",
      "metadata": {
        "id": "P1MCJM2YQ_G5"
      },
      "source": [
        "# Vetor preenchido com 5 posições\n",
        "vetor = [1, 2, 3, 4, 5]\n",
        "print(vetor)"
      ],
      "execution_count": null,
      "outputs": []
    },
    {
      "cell_type": "code",
      "metadata": {
        "id": "ybwnyuakhjQD"
      },
      "source": [
        "# Tamanho\n",
        "print(\"Tamanho: \", len(vetor))"
      ],
      "execution_count": null,
      "outputs": []
    },
    {
      "cell_type": "code",
      "metadata": {
        "id": "N6WJbLJmQ_M9"
      },
      "source": [
        "# Acessa cada elemento do vetor\n",
        "for v in vetor:\n",
        "  print(v, end=' ')"
      ],
      "execution_count": null,
      "outputs": []
    },
    {
      "cell_type": "code",
      "metadata": {
        "id": "woriVe6BQ_Pt"
      },
      "source": [
        "# Acessa cada elemento do vetor pela posição\n",
        "for idx in range(len(vetor)):\n",
        "  print(vetor[idx], end=' ')"
      ],
      "execution_count": null,
      "outputs": []
    },
    {
      "cell_type": "code",
      "metadata": {
        "id": "uYFqP7J3cMWa"
      },
      "source": [
        "# Modifica um valor pela posição\n",
        "vetor[2] = 3000\n",
        "print(vetor)"
      ],
      "execution_count": null,
      "outputs": []
    },
    {
      "cell_type": "code",
      "metadata": {
        "id": "sq5bgq1LcsFD"
      },
      "source": [
        "# Criação de vetores com tipos de dado distintos\n",
        "pessoa = [1, 'João', 2819.50, True]\n",
        "print(pessoa)"
      ],
      "execution_count": null,
      "outputs": []
    },
    {
      "cell_type": "markdown",
      "metadata": {
        "id": "_OvqIrf4Yodn"
      },
      "source": [
        "**Matrizes**"
      ]
    },
    {
      "cell_type": "code",
      "metadata": {
        "id": "6DWxd-uuZl-c"
      },
      "source": [
        "# Matriz - 3 linhas x 4 colunas\n",
        "pessoas = [[1, 'João', 2819.50, True],\n",
        "           [2, 'Maria', 3459.76, False],\n",
        "           [3, 'Carlos', 8294.77, False]]\n",
        "print(pessoas)           "
      ],
      "execution_count": null,
      "outputs": []
    },
    {
      "cell_type": "code",
      "metadata": {
        "id": "6fTKRrXrjfCw"
      },
      "source": [
        "# Tamanho da matriz\n",
        "print(len(pessoas))"
      ],
      "execution_count": null,
      "outputs": []
    },
    {
      "cell_type": "code",
      "metadata": {
        "id": "qVxWbfyJjiBA"
      },
      "source": [
        "# Formato da matriz\n",
        "print(\"Linhas : \", len(pessoas))\n",
        "print(\"Colunas: \", len(pessoas[0]))"
      ],
      "execution_count": null,
      "outputs": []
    },
    {
      "cell_type": "code",
      "metadata": {
        "id": "E8u4I45ui0CJ"
      },
      "source": [
        "# Modifica um valor da matriz\n",
        "pessoas[0][0] = 1000\n",
        "print(pessoas)"
      ],
      "execution_count": null,
      "outputs": []
    },
    {
      "cell_type": "code",
      "metadata": {
        "id": "vIFmLXwmZmCt"
      },
      "source": [
        "# Imprime a matriz\n",
        "atributos = ['Registro', 'Nome', 'Salário', 'CLT']\n",
        "for i in range(len(pessoas)):\n",
        "  for j in range(len(pessoas[i])):\n",
        "    print(\"{0}: {1}\".format(atributos[j], pessoas[i][j]))\n",
        "  print()"
      ],
      "execution_count": null,
      "outputs": []
    },
    {
      "cell_type": "markdown",
      "metadata": {
        "id": "Uhx5tfWyQ_dm"
      },
      "source": [
        "## Listas"
      ]
    },
    {
      "cell_type": "markdown",
      "metadata": {
        "id": "J-rmyrdeTpr4"
      },
      "source": [
        "**Documentação:** https://docs.python.org/3/library/stdtypes.html#lists"
      ]
    },
    {
      "cell_type": "markdown",
      "metadata": {
        "id": "lrW4KXA7RAzw"
      },
      "source": [
        "Uma **lista** é uma estrutura de dados que contém uma coleção ordenada de itens, ou seja, você pode armazenar uma sequência de itens em uma lista. Por exemplo, uma lista de compras."
      ]
    },
    {
      "cell_type": "code",
      "metadata": {
        "id": "lOAupHqfRA6S"
      },
      "source": [
        "mercado = ['arroz', 'feijão', 'café']\n",
        "print(mercado)"
      ],
      "execution_count": null,
      "outputs": []
    },
    {
      "cell_type": "markdown",
      "metadata": {
        "id": "w970ZsYLB-Jy"
      },
      "source": [
        "**Adicionar e remover elementos**"
      ]
    },
    {
      "cell_type": "code",
      "metadata": {
        "id": "ECNNDSu-75KA"
      },
      "source": [
        "# Adiciona no final lista\n",
        "mercado.append('leite')\n",
        "print(mercado)"
      ],
      "execution_count": null,
      "outputs": []
    },
    {
      "cell_type": "code",
      "metadata": {
        "id": "Av8rM5pq75Ms"
      },
      "source": [
        "# Adiciona um elemento na posição 2 da lista\n",
        "mercado.insert(2, 'queijo')\n",
        "print(mercado)"
      ],
      "execution_count": null,
      "outputs": []
    },
    {
      "cell_type": "code",
      "metadata": {
        "id": "hSUtolma75YS"
      },
      "source": [
        "# Remove o elemento pelo nome, se existir\n",
        "mercado.remove('arroz')\n",
        "print(mercado)"
      ],
      "execution_count": null,
      "outputs": []
    },
    {
      "cell_type": "code",
      "metadata": {
        "id": "EI5hpBWS75ax"
      },
      "source": [
        "# Remove pela posição e devolve o elemento\n",
        "mercado.pop(2)"
      ],
      "execution_count": null,
      "outputs": []
    },
    {
      "cell_type": "markdown",
      "metadata": {
        "id": "n-gGzCHm748Y"
      },
      "source": [
        "**Iteradores e geradores**"
      ]
    },
    {
      "cell_type": "code",
      "metadata": {
        "id": "TXCd7BhN74s3"
      },
      "source": [
        "# Iterador como lista\n",
        "faixa_valores = range(10)\n",
        "print(faixa_valores)"
      ],
      "execution_count": null,
      "outputs": []
    },
    {
      "cell_type": "code",
      "metadata": {
        "id": "K3P2zDB_74vJ"
      },
      "source": [
        "list(faixa_valores)"
      ],
      "execution_count": null,
      "outputs": []
    },
    {
      "cell_type": "code",
      "metadata": {
        "id": "4Tbgmdh-Gbl6"
      },
      "source": [
        "# Função geradora de números\n",
        "def gera_numeros(n):\n",
        "  i = 1\n",
        "  while i <= n:\n",
        "    yield i\n",
        "    i = i + 1"
      ],
      "execution_count": null,
      "outputs": []
    },
    {
      "cell_type": "code",
      "metadata": {
        "id": "ImscLPcdGy38"
      },
      "source": [
        "# Cria um gerador de números\n",
        "gerador = gera_numeros(1000)\n",
        "print(gerador)"
      ],
      "execution_count": null,
      "outputs": []
    },
    {
      "cell_type": "code",
      "metadata": {
        "id": "5yxVNFaLG4Bd"
      },
      "source": [
        "# Consome o gerador de números\n",
        "for i in gerador:\n",
        "  print(i)"
      ],
      "execution_count": null,
      "outputs": []
    },
    {
      "cell_type": "markdown",
      "metadata": {
        "id": "YamoZ-5s75iF"
      },
      "source": [
        "**Concateção e combinação**"
      ]
    },
    {
      "cell_type": "code",
      "metadata": {
        "id": "JuOx-OAI75mD"
      },
      "source": [
        "# Concatena usando '+'\n",
        "lista1 = [1, 2, 3, 4, 5]\n",
        "lista2 = [11, 12, 13, 14, 15]"
      ],
      "execution_count": null,
      "outputs": []
    },
    {
      "cell_type": "code",
      "metadata": {
        "id": "TDPkDCI175oC"
      },
      "source": [
        "lista3 = lista1 + lista2\n",
        "print(lista3)"
      ],
      "execution_count": null,
      "outputs": []
    },
    {
      "cell_type": "code",
      "metadata": {
        "id": "_oqfbMyu75qj"
      },
      "source": [
        "# Concatena com 'lista2' agrega na 'lista1' (mais rápido)\n",
        "lista1.extend(lista2)\n",
        "print(lista1)"
      ],
      "execution_count": null,
      "outputs": []
    },
    {
      "cell_type": "markdown",
      "metadata": {
        "id": "1yOFPsiPDYO-"
      },
      "source": [
        "**Ordenação**"
      ]
    },
    {
      "cell_type": "code",
      "metadata": {
        "id": "fi2w4KomDYVh"
      },
      "source": [
        "# Ordenação comum (sem chave)"
      ],
      "execution_count": null,
      "outputs": []
    },
    {
      "cell_type": "code",
      "metadata": {
        "id": "KGQot1unDYX9"
      },
      "source": [
        "numeros = [3, 2, 4, 1, 5]"
      ],
      "execution_count": null,
      "outputs": []
    },
    {
      "cell_type": "code",
      "metadata": {
        "id": "JwR_j_ZfDYaa"
      },
      "source": [
        "numeros.sort()"
      ],
      "execution_count": null,
      "outputs": []
    },
    {
      "cell_type": "code",
      "metadata": {
        "id": "BpqY1jY_mTyv"
      },
      "source": [
        "numeros"
      ],
      "execution_count": null,
      "outputs": []
    },
    {
      "cell_type": "code",
      "metadata": {
        "id": "zIhLKey-kq9H"
      },
      "source": [
        "# Ordenação por chave (por exemplo, tamanho do texto)\n",
        "pessoas = ['João Pedro', 'Maria', 'Carlos', 'Ana']"
      ],
      "execution_count": null,
      "outputs": []
    },
    {
      "cell_type": "code",
      "metadata": {
        "id": "GCn3yDX8kz2n"
      },
      "source": [
        "pessoas.sort(key=len)"
      ],
      "execution_count": null,
      "outputs": []
    },
    {
      "cell_type": "code",
      "metadata": {
        "id": "wKrx0xAIk37v"
      },
      "source": [
        "pessoas"
      ],
      "execution_count": null,
      "outputs": []
    },
    {
      "cell_type": "markdown",
      "metadata": {
        "id": "rqBee9ZiDYgx"
      },
      "source": [
        "**Fatiamento (*slicing*)**"
      ]
    },
    {
      "cell_type": "code",
      "metadata": {
        "id": "uBGvrwvCDYmg"
      },
      "source": [
        "idades = [11, 13, 16, 12, 15, 17, 12, 14, 17]"
      ],
      "execution_count": null,
      "outputs": []
    },
    {
      "cell_type": "code",
      "metadata": {
        "id": "hmdxDJ0PDYo4"
      },
      "source": [
        "# Seleciona parte da lista\n",
        "idades[1:3] # start:stop (exclusive)"
      ],
      "execution_count": null,
      "outputs": []
    },
    {
      "cell_type": "code",
      "metadata": {
        "id": "6pYfe3kpDYrR"
      },
      "source": [
        "# Modifica parte da lista\n",
        "idades[1:3] = [46, 37]"
      ],
      "execution_count": null,
      "outputs": []
    },
    {
      "cell_type": "code",
      "metadata": {
        "id": "QayQwldgnEng"
      },
      "source": [
        "print(idades)"
      ],
      "execution_count": null,
      "outputs": []
    },
    {
      "cell_type": "code",
      "metadata": {
        "id": "IHxG2mTFnP9u"
      },
      "source": [
        "# Omite 'start'\n",
        "idades[:5]      # Recupera os 5 primeiros elementos"
      ],
      "execution_count": null,
      "outputs": []
    },
    {
      "cell_type": "code",
      "metadata": {
        "id": "cRcqXTP8nRSH"
      },
      "source": [
        "# Omite 'stop'\n",
        "idades[3:]      # Recupera os 3 últimos elementos"
      ],
      "execution_count": null,
      "outputs": []
    },
    {
      "cell_type": "code",
      "metadata": {
        "id": "BWP-sDbjnSrN"
      },
      "source": [
        "# Omite 'start' e 'stop'\n",
        "idades[:]"
      ],
      "execution_count": null,
      "outputs": []
    },
    {
      "cell_type": "code",
      "metadata": {
        "id": "FX24IuzhnZt3"
      },
      "source": [
        "# Observa a lista do final (índices negativos)\n",
        "print(\"Lista             :\", idades)\n",
        "print(\"Último elemento   :\", idades[-1])\n",
        "print(\"Penúltimo elemento:\", idades[-2])"
      ],
      "execution_count": null,
      "outputs": []
    },
    {
      "cell_type": "code",
      "metadata": {
        "id": "kepOWNmpnlZ5"
      },
      "source": [
        "# Fatiamento com índices negativos\n",
        "print(\"Lista              :\", idades)         \n",
        "print(\"------------------->\", idades[-4:-1]) # Recua 4 elementos do fim e avança até o elemento 1\n",
        "print(\"------------------->\", idades[-5:-1]) # Recua 5 elementos do fim e avança até o elemento 1\n",
        "print(\"------------------->\", idades[-5:-2]) # Recua 5 elementos do fim e avança até o elemento 2\n",
        "print(\"------------------->\", idades[-6:-3]) # Recua 6 elementos do fim e avança até o elemento 3"
      ],
      "execution_count": null,
      "outputs": []
    },
    {
      "cell_type": "code",
      "metadata": {
        "id": "H7VlqTLyr-ct"
      },
      "source": [
        "# Fatiamento alternado usando 'step'\n",
        "cidades = ['Santo André', 'São Paulo', 'Lisboa', 'Florianópolis', 'Gramado', 'Santiago', 'Buenos Aires', 'Madrid']"
      ],
      "execution_count": null,
      "outputs": []
    },
    {
      "cell_type": "code",
      "metadata": {
        "id": "Nd60NnSPsYAe"
      },
      "source": [
        "# Fatia do começo e seleciona a cada 2 itens\n",
        "cidades[::2]"
      ],
      "execution_count": null,
      "outputs": []
    },
    {
      "cell_type": "code",
      "metadata": {
        "id": "cbRo7BW2seYU"
      },
      "source": [
        "# Fatia a partir do elemento 3\n",
        "cidades[3::]"
      ],
      "execution_count": null,
      "outputs": []
    },
    {
      "cell_type": "code",
      "metadata": {
        "id": "Eh1u-74HslJV"
      },
      "source": [
        "# Fatia a partir do elemento 1 e seleciona a cada 3 itens\n",
        "cidades[1::3]"
      ],
      "execution_count": null,
      "outputs": []
    },
    {
      "cell_type": "markdown",
      "metadata": {
        "id": "7Bq8VO05D-9V"
      },
      "source": [
        "***List comprehensions***: permitem que você componha uma nova lista de modo conciso, filtrando os elementos de uma coleção, transformando os elementos ao passar o filtro, com uma expressão concisa."
      ]
    },
    {
      "cell_type": "code",
      "metadata": {
        "id": "2Bh8HkmKD_Em"
      },
      "source": [
        "salarios = [2790.0, 3250.0, 1260.0, 5200.0, 2440.0, 8670.0, 2010.0]\n",
        "print(salarios)"
      ],
      "execution_count": null,
      "outputs": []
    },
    {
      "cell_type": "code",
      "metadata": {
        "id": "WCvCCyoPFbw_"
      },
      "source": [
        "# Modo tradicional\n",
        "# Seleciona os salários maiores que 2500.0\n",
        "salarios_maiores2500 = []\n",
        "for sal in salarios:\n",
        "  if sal > 2500:\n",
        "    salarios_maiores2500.append(sal)"
      ],
      "execution_count": null,
      "outputs": []
    },
    {
      "cell_type": "code",
      "metadata": {
        "id": "hiBpqZSdFxhY"
      },
      "source": [
        "print(salarios_maiores2500)"
      ],
      "execution_count": null,
      "outputs": []
    },
    {
      "cell_type": "code",
      "metadata": {
        "id": "eeuFOwNOFheg"
      },
      "source": [
        "# Modo pythônico\n",
        "# Seleciona os salários maiores que 2500.0\n",
        "salarios_maiores2500 = [sal for sal in salarios if sal > 2500.0]\n",
        "print(salarios_maiores2500)"
      ],
      "execution_count": null,
      "outputs": []
    },
    {
      "cell_type": "code",
      "metadata": {
        "id": "MvrbUQnCIoXH"
      },
      "source": [
        "print(salarios)"
      ],
      "execution_count": null,
      "outputs": []
    },
    {
      "cell_type": "code",
      "metadata": {
        "id": "J6_prKO1D_HG"
      },
      "source": [
        "# Acrescenta 20% nos salários menores que 2500.0\n",
        "novos_salarios = [sal * 1.2 if sal < 2500.0 else sal for sal in salarios]\n",
        "print(novos_salarios)"
      ],
      "execution_count": null,
      "outputs": []
    },
    {
      "cell_type": "code",
      "metadata": {
        "id": "zOSs_NqXD_Jk"
      },
      "source": [
        "# Soma todos os novos salários menores que 2500.0\n",
        "soma_salarios = sum([sal for sal in novos_salarios if sal < 2500.0])\n",
        "print(soma_salarios)"
      ],
      "execution_count": null,
      "outputs": []
    },
    {
      "cell_type": "markdown",
      "metadata": {
        "id": "kGCVRcu8J37k"
      },
      "source": [
        "**Expressões *lambda*:** são funções anônimas, pequenas, restritas e concisas."
      ]
    },
    {
      "cell_type": "code",
      "metadata": {
        "id": "WdyM2GCzKuol"
      },
      "source": [
        "# Modo tradicional\n",
        "# Elevar os valores da lista o quadrado\n",
        "def dobra(n):\n",
        "  return 2 * n  "
      ],
      "execution_count": null,
      "outputs": []
    },
    {
      "cell_type": "code",
      "metadata": {
        "id": "3C_dX_ebL2sM"
      },
      "source": [
        "dobra(10)"
      ],
      "execution_count": null,
      "outputs": []
    },
    {
      "cell_type": "code",
      "metadata": {
        "id": "X1RQVDHYKvgE"
      },
      "source": [
        "# Modo pythônico usando expressões lambda\n",
        "# Elevar os valores da lista o quadrado\n",
        "quadrado = lambda n : n**2"
      ],
      "execution_count": null,
      "outputs": []
    },
    {
      "cell_type": "code",
      "metadata": {
        "id": "obkNO0mJLZvF"
      },
      "source": [
        "quadrado(10)"
      ],
      "execution_count": null,
      "outputs": []
    },
    {
      "cell_type": "markdown",
      "metadata": {
        "id": "_DeVbURJRBcv"
      },
      "source": [
        "## Tuplas"
      ]
    },
    {
      "cell_type": "markdown",
      "metadata": {
        "id": "S8mXsLSXTlsP"
      },
      "source": [
        "**Documentação:** https://docs.python.org/3/library/stdtypes.html#lists"
      ]
    },
    {
      "cell_type": "markdown",
      "metadata": {
        "id": "wzP_l65lREfY"
      },
      "source": [
        "Uma **tupla** é uma coleção de objetos que se mantêm ordenados e imutáveis.\n",
        "* Tuplas são usadas para manter vários objetos juntos;\n",
        "* Elas são semelhantes às listas, mas sem a extensa funcionalidade que a lista oferece;\n",
        "* Assim como os literais, as tuplas são imutáveis , ou seja, você não pode modificá-las.\n",
        "* Em geral, são usadas nos casos em que uma instrução ou função definida pelo usuário pode assumir com segurança que a coleção de valores não será alterada."
      ]
    },
    {
      "cell_type": "code",
      "metadata": {
        "id": "8tcKXTSkVABw"
      },
      "source": [
        "# Cria uma tupla vazia\n",
        "tupla = ()\n",
        "print(tupla)"
      ],
      "execution_count": null,
      "outputs": []
    },
    {
      "cell_type": "code",
      "metadata": {
        "id": "zzAJ6PGKzoQn"
      },
      "source": [
        "# Tupla preenchida\n",
        "valores = (1, 2, 3)\n",
        "print(valores)"
      ],
      "execution_count": null,
      "outputs": []
    },
    {
      "cell_type": "code",
      "metadata": {
        "id": "wp9tutSo-6vB"
      },
      "source": [
        "# Tamanho\n",
        "print(len(valores))"
      ],
      "execution_count": null,
      "outputs": []
    },
    {
      "cell_type": "code",
      "metadata": {
        "id": "GvpDTZYEzshN"
      },
      "source": [
        "# Tuplas aninhadas\n",
        "valores = ((1, 2, 3), (4, 5, 6))\n",
        "print(valores)"
      ],
      "execution_count": null,
      "outputs": []
    },
    {
      "cell_type": "code",
      "metadata": {
        "id": "v2Wuipw_z33P"
      },
      "source": [
        "# Converte uma sequência em uma tupla\n",
        "tuple([100, 200, 300])"
      ],
      "execution_count": null,
      "outputs": []
    },
    {
      "cell_type": "code",
      "metadata": {
        "id": "TT5BxHEy0Dn5"
      },
      "source": [
        "# Tupla a partir de texto\n",
        "nome = tuple('João Pereira')\n",
        "print(nome)"
      ],
      "execution_count": null,
      "outputs": []
    },
    {
      "cell_type": "code",
      "metadata": {
        "id": "Xz4WGO1A0D2E"
      },
      "source": [
        "# Acessa os itens da tupla por índices\n",
        "print(nome[2])"
      ],
      "execution_count": null,
      "outputs": []
    },
    {
      "cell_type": "code",
      "metadata": {
        "id": "C_x9ov2h_L8x"
      },
      "source": [
        "# Frequência de itens\n",
        "numeros = (1, 1, 1, 2, 3, 4, 5)\n",
        "print(numeros.count(1))"
      ],
      "execution_count": null,
      "outputs": []
    },
    {
      "cell_type": "markdown",
      "metadata": {
        "id": "cG6iFh--0j5m"
      },
      "source": [
        "**Imutabilidade:** os objetos inseridos na tupla podem ser mutáveis, mas depois que a tupla é criada, não será possível modificar qualquer objeto armazenado em cada posição."
      ]
    },
    {
      "cell_type": "code",
      "metadata": {
        "id": "ygaIWMlV0Z-m"
      },
      "source": [
        "valores = tuple(['João', 28, [84], True])\n",
        "print(valores)"
      ],
      "execution_count": null,
      "outputs": []
    },
    {
      "cell_type": "code",
      "metadata": {
        "id": "fqfrLUmb0_oO"
      },
      "source": [
        "valores[2] = 1.79 # erro"
      ],
      "execution_count": null,
      "outputs": []
    },
    {
      "cell_type": "code",
      "metadata": {
        "id": "im6_hgc71FKY"
      },
      "source": [
        "valores[2].append(1.79)\n",
        "print(valores)"
      ],
      "execution_count": null,
      "outputs": []
    },
    {
      "cell_type": "markdown",
      "metadata": {
        "id": "ZeA-L2hvufTG"
      },
      "source": [
        "**Desempacotamento:** as tuplas são uma maneira eficaz de retornar múltiplos valores a partir de funções."
      ]
    },
    {
      "cell_type": "code",
      "metadata": {
        "id": "5PbSjylCt0kw"
      },
      "source": [
        "# Função soma_e_multiplica\n",
        "def soma_e_multiplica(x, y):\n",
        "  return (x + y), (x * y)"
      ],
      "execution_count": null,
      "outputs": []
    },
    {
      "cell_type": "code",
      "metadata": {
        "id": "szJAbCbBueUA"
      },
      "source": [
        "resultado_soma, resultado_multiplicacao = soma_e_multiplica(3, 9)"
      ],
      "execution_count": null,
      "outputs": []
    },
    {
      "cell_type": "code",
      "metadata": {
        "id": "LW9Qqce_vGxx"
      },
      "source": [
        "print(\"Soma      : \", resultado_soma)\n",
        "print(\"Multiplica: \", resultado_multiplicacao)"
      ],
      "execution_count": null,
      "outputs": []
    },
    {
      "cell_type": "markdown",
      "metadata": {
        "id": "gP2KvL3Z6P-a"
      },
      "source": [
        "**Desempacotamento sofisticado**"
      ]
    },
    {
      "cell_type": "code",
      "metadata": {
        "id": "HY92rr1A6QI5"
      },
      "source": [
        "zoo = ('cobra', 'elefante', 'pato', 'lagosta', 'caranguejo', 'aranha')"
      ],
      "execution_count": 37,
      "outputs": []
    },
    {
      "cell_type": "code",
      "metadata": {
        "id": "6GcDxVMM6QLr"
      },
      "source": [
        "reptil, mamifero, ave, *invertebrados = zoo"
      ],
      "execution_count": 38,
      "outputs": []
    },
    {
      "cell_type": "code",
      "metadata": {
        "id": "GPhx6iYM65GS",
        "colab": {
          "base_uri": "https://localhost:8080/"
        },
        "outputId": "6220f51c-03ec-4f7d-82ad-b7a5b0b2f168"
      },
      "source": [
        "print(\"Réptil       : \", reptil)\n",
        "print(\"Mamífero     : \", mamifero)\n",
        "print(\"Ave          : \", ave)\n",
        "print(\"Invertebrados: \", invertebrados)"
      ],
      "execution_count": 39,
      "outputs": [
        {
          "output_type": "stream",
          "text": [
            "Réptil       :  cobra\n",
            "Mamífero     :  elefante\n",
            "Ave          :  pato\n",
            "Invertebrados:  ['lagosta', 'caranguejo', 'aranha']\n"
          ],
          "name": "stdout"
        }
      ]
    },
    {
      "cell_type": "code",
      "metadata": {
        "id": "HB3guVwp7Gw0"
      },
      "source": [
        "# Forma alternativa\n",
        "numeros = (1, 2, 3, 4, 5, 6, 7, 8, 9, 10)"
      ],
      "execution_count": null,
      "outputs": []
    },
    {
      "cell_type": "code",
      "metadata": {
        "id": "5NBgPcvG7WBj"
      },
      "source": [
        "a, b, c, *_ = numeros"
      ],
      "execution_count": null,
      "outputs": []
    },
    {
      "cell_type": "code",
      "metadata": {
        "id": "XjBin-zf-kxh"
      },
      "source": [
        "print(a)\n",
        "print(b)\n",
        "print(c)\n",
        "print(_)"
      ],
      "execution_count": null,
      "outputs": []
    },
    {
      "cell_type": "markdown",
      "metadata": {
        "id": "SQ41V0_iJ4g-"
      },
      "source": [
        "## Sequências"
      ]
    },
    {
      "cell_type": "markdown",
      "metadata": {
        "id": "hVngxXAVTwIw"
      },
      "source": [
        "**Documentação:** https://docs.python.org/3/library/stdtypes.html#sequence-types-list-tuple-range"
      ]
    },
    {
      "cell_type": "markdown",
      "metadata": {
        "id": "z1lL1sLtG6UO"
      },
      "source": [
        "Listas, tuplas e cadeias de caracteres (strings) são exemplos de **sequências**. Os principais recursos são os testes de associação (expressões `in` e `not in`) e as operações de indexação, que nos permitem buscar um item específico na sequência diretamente."
      ]
    },
    {
      "cell_type": "markdown",
      "metadata": {
        "id": "WTpT6r9QXnuH"
      },
      "source": [
        "**enumerate:** devolve uma sequência de tuplas para que possamos manter o controle do índice do item durante as iterações."
      ]
    },
    {
      "cell_type": "code",
      "metadata": {
        "id": "VikJYkhbDmbl"
      },
      "source": [
        "lista = ['O Poderoso Chefão', 'A Lista de Schindler', 'Um Sonho de Liberdade', 'O Rei Leão', 'O Auto da Compadecida']"
      ],
      "execution_count": 50,
      "outputs": []
    },
    {
      "cell_type": "code",
      "metadata": {
        "id": "LRhqwV-dZSGd"
      },
      "source": [
        "dicionario = {}"
      ],
      "execution_count": 51,
      "outputs": []
    },
    {
      "cell_type": "code",
      "metadata": {
        "id": "GcFHHyWzZZx9"
      },
      "source": [
        "for index, value in enumerate(lista):\n",
        "  dicionario[index] = value"
      ],
      "execution_count": 52,
      "outputs": []
    },
    {
      "cell_type": "code",
      "metadata": {
        "id": "Px00rk3pZqQY",
        "colab": {
          "base_uri": "https://localhost:8080/"
        },
        "outputId": "850ef541-047b-412f-f620-24cfdbb87dcc"
      },
      "source": [
        "dicionario"
      ],
      "execution_count": 53,
      "outputs": [
        {
          "output_type": "execute_result",
          "data": {
            "text/plain": [
              "{0: 'O Poderoso Chefão',\n",
              " 1: 'A Lista de Schindler',\n",
              " 2: 'Um Sonho de Liberdade',\n",
              " 3: 'O Rei Leão',\n",
              " 4: 'O Auto da Compadecida'}"
            ]
          },
          "metadata": {
            "tags": []
          },
          "execution_count": 53
        }
      ]
    },
    {
      "cell_type": "code",
      "metadata": {
        "id": "46gqi1D5ZuPX"
      },
      "source": [
        "# Formatação mais comum\n",
        "for index, value in enumerate(lista):\n",
        "  dicionario[value] = index"
      ],
      "execution_count": 57,
      "outputs": []
    },
    {
      "cell_type": "code",
      "metadata": {
        "id": "JsAk3KJHZyKF",
        "colab": {
          "base_uri": "https://localhost:8080/"
        },
        "outputId": "36fe47d3-799a-439e-de52-50c3381bb889"
      },
      "source": [
        "dicionario"
      ],
      "execution_count": 58,
      "outputs": [
        {
          "output_type": "execute_result",
          "data": {
            "text/plain": [
              "{0: 'O Poderoso Chefão',\n",
              " 1: 'A Lista de Schindler',\n",
              " 2: 'Um Sonho de Liberdade',\n",
              " 3: 'O Rei Leão',\n",
              " 4: 'O Auto da Compadecida',\n",
              " 'A Lista de Schindler': 1,\n",
              " 'O Auto da Compadecida': 4,\n",
              " 'O Poderoso Chefão': 0,\n",
              " 'O Rei Leão': 3,\n",
              " 'Um Sonho de Liberdade': 2}"
            ]
          },
          "metadata": {
            "tags": []
          },
          "execution_count": 58
        }
      ]
    },
    {
      "cell_type": "markdown",
      "metadata": {
        "id": "s_L8AwoNX2c0"
      },
      "source": [
        "**sorted:** devolve uma lista ordenada."
      ]
    },
    {
      "cell_type": "code",
      "metadata": {
        "id": "LL2JvuwIDmhG"
      },
      "source": [
        "lista = [99, 0, 78, 2, 12, 0, 42, 56, 9, 0]"
      ],
      "execution_count": null,
      "outputs": []
    },
    {
      "cell_type": "code",
      "metadata": {
        "id": "TYKpZvr6cgph"
      },
      "source": [
        "sorted(lista)"
      ],
      "execution_count": null,
      "outputs": []
    },
    {
      "cell_type": "markdown",
      "metadata": {
        "id": "q4Gr4SiTX7EV"
      },
      "source": [
        "**zip:** cria pares de elementos em uma série de sequências para criar uma lista de tuplas."
      ]
    },
    {
      "cell_type": "code",
      "metadata": {
        "id": "PJWtjTG-Dmkq"
      },
      "source": [
        "paises = ['China', 'Índia', 'Estados Unidos', 'Indonésia', 'Paquistão'] # lista\n",
        "populacao = (1411780000, 1380004385, 331449281, 273523615, 220892340)   # tupla"
      ],
      "execution_count": 45,
      "outputs": []
    },
    {
      "cell_type": "code",
      "metadata": {
        "id": "r_RYseV7dMhj"
      },
      "source": [
        "paises_populacao = zip(paises, populacao)"
      ],
      "execution_count": 47,
      "outputs": []
    },
    {
      "cell_type": "code",
      "metadata": {
        "id": "78m8PYvFdQHL",
        "colab": {
          "base_uri": "https://localhost:8080/"
        },
        "outputId": "2d905eb9-1400-4eff-91ef-bc907b4df6bf"
      },
      "source": [
        "list(paises_populacao)"
      ],
      "execution_count": 48,
      "outputs": [
        {
          "output_type": "execute_result",
          "data": {
            "text/plain": [
              "[('China', 1411780000),\n",
              " ('Índia', 1380004385),\n",
              " ('Estados Unidos', 331449281),\n",
              " ('Indonésia', 273523615),\n",
              " ('Paquistão', 220892340)]"
            ]
          },
          "metadata": {
            "tags": []
          },
          "execution_count": 48
        }
      ]
    },
    {
      "cell_type": "markdown",
      "metadata": {
        "id": "s4ikSxaIX7pv"
      },
      "source": [
        "**reversed:** itera pelos elementos de uma sequência na ordem inversa."
      ]
    },
    {
      "cell_type": "code",
      "metadata": {
        "id": "9FC1vGVhDt4h"
      },
      "source": [
        "numeros = tuple(range(1, 21))\n",
        "print(numeros)"
      ],
      "execution_count": null,
      "outputs": []
    },
    {
      "cell_type": "code",
      "metadata": {
        "id": "xtcTFbz-h9MY"
      },
      "source": [
        "numeros_reversos = tuple(reversed(numeros))\n",
        "print(numeros_reversos)"
      ],
      "execution_count": null,
      "outputs": []
    },
    {
      "cell_type": "markdown",
      "metadata": {
        "id": "DY7Ng7M7RE72"
      },
      "source": [
        "## *Sets*"
      ]
    },
    {
      "cell_type": "markdown",
      "metadata": {
        "id": "dDWFAo1UT7Io"
      },
      "source": [
        "**Documentação:** https://docs.python.org/3/library/stdtypes.html#set-types-set-frozenset"
      ]
    },
    {
      "cell_type": "markdown",
      "metadata": {
        "id": "-3M1XKYHRHNI"
      },
      "source": [
        "***Sets*** (conjuntos) são coleções não ordenadas de objetos simples. Eles são usados quando a existência de um objeto em uma coleção é mais importante do que a ordem ou quantas vezes ela ocorre.\n",
        "\n",
        "* Usando conjuntos, você pode testar o pertencimento dos elementos, averiguar se um subconjunto pertence a um conjunto e também encontrar a intersecção entre dois conjuntos.\n",
        "* Podemos pensar neles como dicionários, mas somente com as chaves, sem os valores."
      ]
    },
    {
      "cell_type": "code",
      "metadata": {
        "id": "j_ZU2TKLRHVh"
      },
      "source": [
        "# Cria um set\n",
        "brics = set(['Brasil', 'Índia', 'Rússia', 'China', 'África do Sul'])\n",
        "print(brics)"
      ],
      "execution_count": null,
      "outputs": []
    },
    {
      "cell_type": "code",
      "metadata": {
        "id": "GbIxHlPPRHYJ"
      },
      "source": [
        "# Cria um set\n",
        "mercosul = {'Brasil', 'Uruguai', 'Paraguai', 'Argentina', 'Venezuela'}\n",
        "print(mercosul)"
      ],
      "execution_count": null,
      "outputs": []
    },
    {
      "cell_type": "code",
      "metadata": {
        "id": "3cnhthdFPSNJ"
      },
      "source": [
        "# Verifica o tipo de dado\n",
        "type(mercosul)"
      ],
      "execution_count": null,
      "outputs": []
    },
    {
      "cell_type": "markdown",
      "metadata": {
        "id": "3BH7KgUWPbLM"
      },
      "source": [
        "**Operações em conjuntos**"
      ]
    },
    {
      "cell_type": "code",
      "metadata": {
        "id": "D2hAge0iPbTO"
      },
      "source": [
        "# União\n",
        "brics.union(mercosul)"
      ],
      "execution_count": null,
      "outputs": []
    },
    {
      "cell_type": "code",
      "metadata": {
        "id": "WtGbABXQR6Oo"
      },
      "source": [
        "brics | mercosul"
      ],
      "execution_count": null,
      "outputs": []
    },
    {
      "cell_type": "code",
      "metadata": {
        "id": "jZD12txNR04w"
      },
      "source": [
        "# Intersecção\n",
        "brics.intersection(mercosul)"
      ],
      "execution_count": null,
      "outputs": []
    },
    {
      "cell_type": "code",
      "metadata": {
        "id": "D919ptXyR8-e"
      },
      "source": [
        "brics & mercosul"
      ],
      "execution_count": null,
      "outputs": []
    },
    {
      "cell_type": "code",
      "metadata": {
        "id": "LQQRdfKJSC3V"
      },
      "source": [
        "# Diferença\n",
        "brics.difference(mercosul)"
      ],
      "execution_count": null,
      "outputs": []
    },
    {
      "cell_type": "code",
      "metadata": {
        "id": "rdcQ2RTiSG4P"
      },
      "source": [
        "brics - mercosul"
      ],
      "execution_count": null,
      "outputs": []
    },
    {
      "cell_type": "code",
      "metadata": {
        "id": "xD0gaob3SJUl"
      },
      "source": [
        "# Contido (é subconjunto)\n",
        "paises = brics & mercosul # Brasil\n",
        "paises.issubset(brics)"
      ],
      "execution_count": null,
      "outputs": []
    },
    {
      "cell_type": "markdown",
      "metadata": {
        "id": "QnI8kmMDRHhQ"
      },
      "source": [
        "## Dicionários"
      ]
    },
    {
      "cell_type": "markdown",
      "metadata": {
        "id": "t0f-FxJSUaNx"
      },
      "source": [
        "**Documentação:** https://docs.python.org/3/library/stdtypes.html#mapping-types-dict"
      ]
    },
    {
      "cell_type": "markdown",
      "metadata": {
        "id": "mXLfNLeXRMXH"
      },
      "source": [
        "Um **dicionário** é como uma agenda onde você pode encontrar o endereço ou detalhes de contato de uma pessoa sabendo apenas seu nome.\n",
        "* Nos dicionários, associamos `chaves` com `valores`;\n",
        "* A **chave** deve ser exclusiva e única para o dicionário, e você pode usar apenas objetos imutáveis para ela.\n",
        "\n"
      ]
    },
    {
      "cell_type": "code",
      "metadata": {
        "id": "fMm3osNnRMeQ"
      },
      "source": [
        "# Cria um dicionário vazio\n",
        "dicionario = dict()"
      ],
      "execution_count": null,
      "outputs": []
    },
    {
      "cell_type": "code",
      "metadata": {
        "id": "Z08LJSU_RMg7"
      },
      "source": [
        "# Cria um dicionário vazio no modo pythônico\n",
        "dicionario = {}"
      ],
      "execution_count": null,
      "outputs": []
    },
    {
      "cell_type": "code",
      "metadata": {
        "id": "HpBL4_EsZcow"
      },
      "source": [
        "# Cria um dicionário com valores\n",
        "dicionario = {'Nome': 'João', 'Idade': 29, 'Salário': 2700.00}"
      ],
      "execution_count": null,
      "outputs": []
    },
    {
      "cell_type": "code",
      "metadata": {
        "id": "sNJ3LCnhZxto"
      },
      "source": [
        "print(dicionario)"
      ],
      "execution_count": null,
      "outputs": []
    },
    {
      "cell_type": "code",
      "metadata": {
        "id": "pVUb4yVrZ9wm"
      },
      "source": [
        "# Acesso o valor pelo nome da chave\n",
        "print(dicionario['Nome'])"
      ],
      "execution_count": null,
      "outputs": []
    },
    {
      "cell_type": "markdown",
      "metadata": {
        "id": "y0flcemZzjDs"
      },
      "source": [
        "**Operações**"
      ]
    },
    {
      "cell_type": "code",
      "metadata": {
        "id": "8zP3HsVjyg4V"
      },
      "source": [
        "# Tamanho\n",
        "len(dicionario)"
      ],
      "execution_count": null,
      "outputs": []
    },
    {
      "cell_type": "code",
      "metadata": {
        "id": "RE40fZ3JzYuE"
      },
      "source": [
        "# Transforma em literal\n",
        "str(dicionario)"
      ],
      "execution_count": null,
      "outputs": []
    },
    {
      "cell_type": "code",
      "metadata": {
        "id": "EcBqLkM91Tpi"
      },
      "source": [
        "# Recupera o valor pelo nome da chave\n",
        "dicionario.get('Nome')"
      ],
      "execution_count": null,
      "outputs": []
    },
    {
      "cell_type": "code",
      "metadata": {
        "id": "Qnotbq8v48_D"
      },
      "source": [
        "# Recupera a lista de itens\n",
        "dicionario.items()"
      ],
      "execution_count": null,
      "outputs": []
    },
    {
      "cell_type": "code",
      "metadata": {
        "id": "qDdUPAXmGRYP"
      },
      "source": [
        "# Recupera a lista de chaves\n",
        "dicionario.keys()"
      ],
      "execution_count": null,
      "outputs": []
    },
    {
      "cell_type": "code",
      "metadata": {
        "id": "555xe3Q6zhlz"
      },
      "source": [
        "# Recupera a lista de valores\n",
        "dicionario.values()"
      ],
      "execution_count": null,
      "outputs": []
    },
    {
      "cell_type": "markdown",
      "metadata": {
        "id": "tzyE6Kl3aK9g"
      },
      "source": [
        "**Incluir e remover chaves**"
      ]
    },
    {
      "cell_type": "code",
      "metadata": {
        "id": "pyu3ahXFZ95v"
      },
      "source": [
        "# Inclui uma nova chave com valor\n",
        "dicionario['Peso'] = 75.6"
      ],
      "execution_count": null,
      "outputs": []
    },
    {
      "cell_type": "code",
      "metadata": {
        "id": "ciB7NzAtZ98V"
      },
      "source": [
        "print(dicionario)"
      ],
      "execution_count": null,
      "outputs": []
    },
    {
      "cell_type": "code",
      "metadata": {
        "id": "0MkjXngPbLfn"
      },
      "source": [
        "# Remove uma chave pelo nome\n",
        "del dicionario['Peso']"
      ],
      "execution_count": null,
      "outputs": []
    },
    {
      "cell_type": "code",
      "metadata": {
        "id": "OCRwRAPLbLiL"
      },
      "source": [
        "print(dicionario)"
      ],
      "execution_count": null,
      "outputs": []
    },
    {
      "cell_type": "code",
      "metadata": {
        "id": "Z5QTO_cBb-g4"
      },
      "source": [
        "# Remove uma chave e devolve o valor associado\n",
        "dicionario.pop('Idade')"
      ],
      "execution_count": null,
      "outputs": []
    },
    {
      "cell_type": "code",
      "metadata": {
        "id": "NeY1bSvzcDlv"
      },
      "source": [
        "print(dicionario)"
      ],
      "execution_count": null,
      "outputs": []
    },
    {
      "cell_type": "markdown",
      "metadata": {
        "id": "YEx4-9MtbwAv"
      },
      "source": [
        "**Criando dicionários a partir de listas**"
      ]
    },
    {
      "cell_type": "code",
      "metadata": {
        "id": "NlgRks_gcMjo"
      },
      "source": [
        "lista1 = ['a', 'b', 'c', 'd']\n",
        "lista2 = [10, 20, 30, 40]"
      ],
      "execution_count": null,
      "outputs": []
    },
    {
      "cell_type": "code",
      "metadata": {
        "id": "Nf32T8ADbwJP"
      },
      "source": [
        "dados = {}"
      ],
      "execution_count": null,
      "outputs": []
    },
    {
      "cell_type": "code",
      "metadata": {
        "id": "t6oMM2MNbwL2"
      },
      "source": [
        "# Usando iteradores\n",
        "for key, value in zip(lista1, lista2):\n",
        "  dados[key] = value"
      ],
      "execution_count": null,
      "outputs": []
    },
    {
      "cell_type": "code",
      "metadata": {
        "id": "oCI4f6hMcb1P"
      },
      "source": [
        "print(dados)"
      ],
      "execution_count": null,
      "outputs": []
    },
    {
      "cell_type": "code",
      "metadata": {
        "id": "34mdO21gcljn"
      },
      "source": [
        "# Usando a função dict\n",
        "dados_novos = dict(zip(lista1, lista2))"
      ],
      "execution_count": null,
      "outputs": []
    },
    {
      "cell_type": "code",
      "metadata": {
        "id": "6TmeK6Dnc4bG"
      },
      "source": [
        "print(dados_novos)"
      ],
      "execution_count": null,
      "outputs": []
    },
    {
      "cell_type": "markdown",
      "metadata": {
        "id": "1jOBd2DCO2Tw"
      },
      "source": [
        "## Exercícios"
      ]
    },
    {
      "cell_type": "markdown",
      "metadata": {
        "id": "xl0uMRliO4To"
      },
      "source": [
        "**1 #** Crie um lista com os números pares entre 0 e 1000 e mostre essa lista."
      ]
    },
    {
      "cell_type": "code",
      "metadata": {
        "colab": {
          "base_uri": "https://localhost:8080/"
        },
        "id": "dThgfR5dO5x_",
        "outputId": "b0283a4f-da4f-456a-931d-819424065274"
      },
      "source": [
        "#@title Texto de título padrão\n"
      ],
      "execution_count": null,
      "outputs": [
        {
          "output_type": "stream",
          "text": [
            "[0, 2, 4, 6, 8, 10, 12, 14, 16, 18, 20, 22, 24, 26, 28, 30, 32, 34, 36, 38, 40, 42, 44, 46, 48, 50, 52, 54, 56, 58, 60, 62, 64, 66, 68, 70, 72, 74, 76, 78, 80, 82, 84, 86, 88, 90, 92, 94, 96, 98, 100, 102, 104, 106, 108, 110, 112, 114, 116, 118, 120, 122, 124, 126, 128, 130, 132, 134, 136, 138, 140, 142, 144, 146, 148, 150, 152, 154, 156, 158, 160, 162, 164, 166, 168, 170, 172, 174, 176, 178, 180, 182, 184, 186, 188, 190, 192, 194, 196, 198, 200, 202, 204, 206, 208, 210, 212, 214, 216, 218, 220, 222, 224, 226, 228, 230, 232, 234, 236, 238, 240, 242, 244, 246, 248, 250, 252, 254, 256, 258, 260, 262, 264, 266, 268, 270, 272, 274, 276, 278, 280, 282, 284, 286, 288, 290, 292, 294, 296, 298, 300, 302, 304, 306, 308, 310, 312, 314, 316, 318, 320, 322, 324, 326, 328, 330, 332, 334, 336, 338, 340, 342, 344, 346, 348, 350, 352, 354, 356, 358, 360, 362, 364, 366, 368, 370, 372, 374, 376, 378, 380, 382, 384, 386, 388, 390, 392, 394, 396, 398, 400, 402, 404, 406, 408, 410, 412, 414, 416, 418, 420, 422, 424, 426, 428, 430, 432, 434, 436, 438, 440, 442, 444, 446, 448, 450, 452, 454, 456, 458, 460, 462, 464, 466, 468, 470, 472, 474, 476, 478, 480, 482, 484, 486, 488, 490, 492, 494, 496, 498, 500, 502, 504, 506, 508, 510, 512, 514, 516, 518, 520, 522, 524, 526, 528, 530, 532, 534, 536, 538, 540, 542, 544, 546, 548, 550, 552, 554, 556, 558, 560, 562, 564, 566, 568, 570, 572, 574, 576, 578, 580, 582, 584, 586, 588, 590, 592, 594, 596, 598, 600, 602, 604, 606, 608, 610, 612, 614, 616, 618, 620, 622, 624, 626, 628, 630, 632, 634, 636, 638, 640, 642, 644, 646, 648, 650, 652, 654, 656, 658, 660, 662, 664, 666, 668, 670, 672, 674, 676, 678, 680, 682, 684, 686, 688, 690, 692, 694, 696, 698, 700, 702, 704, 706, 708, 710, 712, 714, 716, 718, 720, 722, 724, 726, 728, 730, 732, 734, 736, 738, 740, 742, 744, 746, 748, 750, 752, 754, 756, 758, 760, 762, 764, 766, 768, 770, 772, 774, 776, 778, 780, 782, 784, 786, 788, 790, 792, 794, 796, 798, 800, 802, 804, 806, 808, 810, 812, 814, 816, 818, 820, 822, 824, 826, 828, 830, 832, 834, 836, 838, 840, 842, 844, 846, 848, 850, 852, 854, 856, 858, 860, 862, 864, 866, 868, 870, 872, 874, 876, 878, 880, 882, 884, 886, 888, 890, 892, 894, 896, 898, 900, 902, 904, 906, 908, 910, 912, 914, 916, 918, 920, 922, 924, 926, 928, 930, 932, 934, 936, 938, 940, 942, 944, 946, 948, 950, 952, 954, 956, 958, 960, 962, 964, 966, 968, 970, 972, 974, 976, 978, 980, 982, 984, 986, 988, 990, 992, 994, 996, 998]\n"
          ],
          "name": "stdout"
        }
      ]
    },
    {
      "cell_type": "markdown",
      "metadata": {
        "id": "NxQ0dB72O54w"
      },
      "source": [
        "**2 #** Elabore um algoritmo que apresente a saída abaixo como resultado da concatenação de três listas."
      ]
    },
    {
      "cell_type": "code",
      "metadata": {
        "colab": {
          "base_uri": "https://localhost:8080/"
        },
        "id": "JLYtPEOwO5-U",
        "outputId": "9f1d1d73-494f-46eb-cbbe-53a8c409cda1"
      },
      "source": [
        "lista1 = [10, 20, 30]\n",
        "lista2 = [1, 2, 3]\n",
        "lista3 = [10, 200, 300]\n",
        "print(lista1 + lista2 + lista3)\n",
        "\n"
      ],
      "execution_count": 7,
      "outputs": [
        {
          "output_type": "stream",
          "text": [
            "[10, 20, 30, 1, 2, 3, 10, 200, 300]\n"
          ],
          "name": "stdout"
        }
      ]
    },
    {
      "cell_type": "markdown",
      "metadata": {
        "id": "_F1Gl8mxO6Ex"
      },
      "source": [
        "**3 #** Elabore um algoritmo que apresente a saída abaixo como resultado do fatiamento de uma lista de números ímpares entre 1 e 50."
      ]
    },
    {
      "cell_type": "code",
      "metadata": {
        "colab": {
          "base_uri": "https://localhost:8080/"
        },
        "id": "rcEDKHJEO6Jm",
        "outputId": "40a4ca7e-7737-4fdd-866a-101053c4496a"
      },
      "source": [
        "#[13, 15, 17, 19, 21, 23, 25, 27, 29, 31, 33, 35]\n",
        "lista = list(range(1,50,2))\n",
        "print (lista[6:18], end='')\n"
      ],
      "execution_count": 36,
      "outputs": [
        {
          "output_type": "stream",
          "text": [
            "[13, 15, 17, 19, 21, 23, 25, 27, 29, 31, 33, 35]"
          ],
          "name": "stdout"
        }
      ]
    },
    {
      "cell_type": "markdown",
      "metadata": {
        "id": "t_aQx4W-O6N-"
      },
      "source": [
        "**4 #** Elabore um algoritmo que apresente a saída abaixo como resultado de uma tupla criada a partir de nomes de animais domésticos."
      ]
    },
    {
      "cell_type": "code",
      "metadata": {
        "colab": {
          "base_uri": "https://localhost:8080/"
        },
        "id": "_xqwvDLAO6SD",
        "outputId": "32a2851e-0715-4560-e1ed-4714b78de27d"
      },
      "source": [
        "#('Cachorro', 'Gato', 'Calopsita', 'Hamster', 'Coelho', 'Tartaruga')\n",
        "zoo = ('cobra', 'elefante', 'pato', 'Cachorro', 'Gato', 'Calopsita', 'Hamster', 'Coelho', 'Tartaruga' )\n",
        "reptil, mamifero, ave, *domestico = zoo\n",
        "\n",
        "print (domestico)\n"
      ],
      "execution_count": 40,
      "outputs": [
        {
          "output_type": "stream",
          "text": [
            "['Cachorro', 'Gato', 'Calopsita', 'Hamster', 'Coelho', 'Tartaruga']\n"
          ],
          "name": "stdout"
        }
      ]
    },
    {
      "cell_type": "markdown",
      "metadata": {
        "id": "nMQ0VCHKO6WD"
      },
      "source": [
        "**5 #** Elabore um algoritmo que utilize a função `zip` para criar os pares de elementos apresentados na saída abaixo."
      ]
    },
    {
      "cell_type": "code",
      "metadata": {
        "colab": {
          "base_uri": "https://localhost:8080/"
        },
        "id": "Lb9mcBDfO6Z6",
        "outputId": "ea33428d-bc2a-4ece-efc0-6ca76053d144"
      },
      "source": [
        "Empresa = ['Petrobrás','Ambev','Nubank','Carrefour','JBS']\n",
        "valor = (80000, 120000, 300000, 700000, 550000)\n",
        "total = zip(Empresa, valor)\n",
        "print (list(total))\n",
        "\n"
      ],
      "execution_count": 49,
      "outputs": [
        {
          "output_type": "stream",
          "text": [
            "[('Petrobrás', 80000), ('Ambev', 120000), ('Nubank', 300000), ('Carrefour', 700000), ('JBS', 550000)]\n"
          ],
          "name": "stdout"
        }
      ]
    },
    {
      "cell_type": "markdown",
      "metadata": {
        "id": "vhutly_WO6eD"
      },
      "source": [
        "**6 #** Elabore um algoritmo que utilize a função `enumerate` para criar o mapeamento numérico da lista de livros apresentada na saída em um dicionário."
      ]
    },
    {
      "cell_type": "code",
      "metadata": {
        "colab": {
          "base_uri": "https://localhost:8080/"
        },
        "id": "5WE620UXO6iD",
        "outputId": "ac8b612b-a574-4015-ec96-79ce414a31bf"
      },
      "source": [
        "Livros = ['Bíblia', 'Pai Rico, Pai Pobre', 'Python para Análise de Dados', 'A Revolução dos Bichos', 'Sentimento do Mundo']\n",
        "\n",
        "dicionario = {}\n",
        "\n",
        "for index, value in enumerate(lista):\n",
        "  dicionario[index] = value\n",
        "\n",
        "print (dicionario, end = '')"
      ],
      "execution_count": 60,
      "outputs": [
        {
          "output_type": "stream",
          "text": [
            "{0: 'O Poderoso Chefão', 1: 'A Lista de Schindler', 2: 'Um Sonho de Liberdade', 3: 'O Rei Leão', 4: 'O Auto da Compadecida'}"
          ],
          "name": "stdout"
        }
      ]
    },
    {
      "cell_type": "markdown",
      "metadata": {
        "id": "DVP7aAOEO6nJ"
      },
      "source": [
        "**7 #** Elabore um algoritmo que faça a intersecção de dois conjuntos sobre os ganhadores brasileiros no futebol sulamericano e apresente conforme a saída abaixo."
      ]
    },
    {
      "cell_type": "code",
      "metadata": {
        "colab": {
          "base_uri": "https://localhost:8080/"
        },
        "id": "IrZ_a2hUO6tX",
        "outputId": "0440f1e3-ccce-4c43-9702-105ac4599d03"
      },
      "source": [
        "#Brasileirão : {'Santos', 'Cruzeiro', 'Grêmio', 'Palmeiras', 'São Paulo'}\n",
        "#Libertadores: {'Flamengo', 'Grêmio', 'Atlético Mineiro', 'Palmeiras', 'São Paulo'}\n",
        "#Intersecção : {'São Paulo', 'Grêmio', 'Palmeiras'}\n",
        "\n",
        "Brasil = set(['Santos', 'Cruzeiro', 'Grêmio', 'Palmeiras', 'São Paulo'])\n",
        "Liberta = set(['Flamengo', 'Grêmio', 'Atlético Mineiro', 'Palmeiras', 'São Paulo'])\n",
        "Brasil.intersection(Liberta)\n",
        "\n",
        "\n"
      ],
      "execution_count": 1,
      "outputs": [
        {
          "output_type": "execute_result",
          "data": {
            "text/plain": [
              "{'Grêmio', 'Palmeiras', 'São Paulo'}"
            ]
          },
          "metadata": {
            "tags": []
          },
          "execution_count": 1
        }
      ]
    },
    {
      "cell_type": "markdown",
      "metadata": {
        "id": "1G-i97ldPM2_"
      },
      "source": [
        "**8 #** Crie um dicionário com suas informações: nome, idade, empresa e time de futebol. Caso não torça para nenhum time, utilize a palavra `None`, conforme o exemplo apresentado na saída abaixo."
      ]
    },
    {
      "cell_type": "code",
      "metadata": {
        "id": "Orkyz0xDPM7q"
      },
      "source": [
        "# Cria um dicionário com valores\n",
        "dicionario = {'Nome': 'João', 'Idade': 29, 'Empresa': 'Empresa1', 'TimeFutebol': 'São Paulo'}"
      ],
      "execution_count": 2,
      "outputs": []
    },
    {
      "cell_type": "markdown",
      "metadata": {
        "id": "J02WPRnnPN-_"
      },
      "source": [
        "**9 #** Elabore um algoritmo para somar e exibir todos os valores do dicionário criado abaixo."
      ]
    },
    {
      "cell_type": "code",
      "metadata": {
        "id": "50fjNTfoPOL3",
        "colab": {
          "base_uri": "https://localhost:8080/"
        },
        "outputId": "3a1b4a59-3ea0-4914-aeeb-7d4e16fea6f1"
      },
      "source": [
        "mercado = {'arroz': 29.90, 'feijão': 8.90, 'açúcar': 3.49, 'sal': 2.49}\n",
        "#mercado.values()\n",
        "sum(mercado.values())\n"
      ],
      "execution_count": 10,
      "outputs": [
        {
          "output_type": "execute_result",
          "data": {
            "text/plain": [
              "44.78"
            ]
          },
          "metadata": {
            "tags": []
          },
          "execution_count": 10
        }
      ]
    },
    {
      "cell_type": "code",
      "metadata": {
        "colab": {
          "base_uri": "https://localhost:8080/"
        },
        "id": "kWYBW1areql5",
        "outputId": "7fa7e654-a335-4bea-eff0-7153aafadcd4"
      },
      "source": [
        ""
      ],
      "execution_count": null,
      "outputs": [
        {
          "output_type": "stream",
          "text": [
            "44.78\n"
          ],
          "name": "stdout"
        }
      ]
    },
    {
      "cell_type": "markdown",
      "metadata": {
        "id": "_SxQw3F2PORX"
      },
      "source": [
        "**10 #** Elabore um algoritmo para calcular o salário de uma pessoa dado o valor hora em um mês com 160 horas usando funções lambda."
      ]
    },
    {
      "cell_type": "code",
      "metadata": {
        "id": "qWt_Z8nMPOVn",
        "colab": {
          "base_uri": "https://localhost:8080/"
        },
        "outputId": "cb440162-d2e6-49a9-b1dd-6d4c08d2297d"
      },
      "source": [
        "  calcula_salario = lambda valor_hora :valor_hora*160\n",
        "  print(calcula_salario(50))"
      ],
      "execution_count": 21,
      "outputs": [
        {
          "output_type": "stream",
          "text": [
            "8000\n"
          ],
          "name": "stdout"
        }
      ]
    }
  ]
}