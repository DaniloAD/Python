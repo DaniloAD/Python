{
  "nbformat": 4,
  "nbformat_minor": 0,
  "metadata": {
    "colab": {
      "name": "Cópia de Python_Analytics_1___Introdução_à_Linguagem_Python.ipynb",
      "provenance": [],
      "collapsed_sections": [
        "sM5DXML0uR6V",
        "UGNYSrALqEEo",
        "-IoZNNFnqGT0",
        "vrc7QNYCqMDV",
        "7sxhCBxxqRmT",
        "n163bbfyqbbE"
      ],
      "include_colab_link": true
    },
    "kernelspec": {
      "name": "python3",
      "display_name": "Python 3"
    },
    "language_info": {
      "name": "python"
    }
  },
  "cells": [
    {
      "cell_type": "markdown",
      "metadata": {
        "id": "view-in-github",
        "colab_type": "text"
      },
      "source": [
        "<a href=\"https://colab.research.google.com/github/DaniloAD/Python/blob/main/Python_Analytics_1___Introdu%C3%A7%C3%A3o_%C3%A0_Linguagem_Python_Resolvido.ipynb\" target=\"_parent\"><img src=\"https://colab.research.google.com/assets/colab-badge.svg\" alt=\"Open In Colab\"/></a>"
      ]
    },
    {
      "cell_type": "markdown",
      "metadata": {
        "id": "Chd8JptSmjLC"
      },
      "source": [
        "![picture](https://minerador.es/wp-content/uploads/2020/10/sticky-lg.png)"
      ]
    },
    {
      "cell_type": "markdown",
      "metadata": {
        "id": "uyJhqvVvml-B"
      },
      "source": [
        "# Python Analytics #1 | **Introdução à Linguagem Python**\n",
        "*Prof. Orlando Junior*"
      ]
    },
    {
      "cell_type": "markdown",
      "metadata": {
        "id": "HOiUs-2QLSLr"
      },
      "source": [
        "---"
      ]
    },
    {
      "cell_type": "markdown",
      "metadata": {
        "id": "zE_UbFWNLSoA"
      },
      "source": [
        "**Conteúdo**\n",
        "\n",
        "1. O que é Python?\n",
        "2. Variáveis e tipos de dados\n",
        "3. Comandos de entrada e saída\n",
        "4. Operadores e operações\n",
        "5. Métodos, procedimentos e funções\n",
        "6. Estruturas de seleção\n",
        "7. Estruturas de repetição\n",
        "8. Exercícios"
      ]
    },
    {
      "cell_type": "markdown",
      "metadata": {
        "id": "qE3hPuOELS5h"
      },
      "source": [
        "---"
      ]
    },
    {
      "cell_type": "markdown",
      "metadata": {
        "id": "sM5DXML0uR6V"
      },
      "source": [
        "## O que é Python?"
      ]
    },
    {
      "cell_type": "markdown",
      "metadata": {
        "id": "G1IiUQgKoZ_v"
      },
      "source": [
        "> Python é uma linguagem de programação poderosa e fácil de aprender. Ela possui estruturas de dados eficientes em alto nível e uma abordagem efetiva simples para a programação orientada a objetos.A sintaxe elegante e a tipagem dinâmica do Python, junto com sua natureza interpretada, tornam-no uma linguagem ideal para scripts e desenvolvimento rápido de aplicativos em muitas áreas na maioria das plataformas."
      ]
    },
    {
      "cell_type": "markdown",
      "metadata": {
        "id": "A6xSuJh3oa4u"
      },
      "source": [
        "**Características**\n",
        "* Simples e minimalista\n",
        "* Fácil de aprender\n",
        "* Grátis e de código aberto\n",
        "* Linguagem de alto nível\n",
        "* Portável\n",
        "* Interpretada\n",
        "* Orientada a objetos\n",
        "* Extensível\n",
        "* Embarcável"
      ]
    },
    {
      "cell_type": "markdown",
      "metadata": {
        "id": "bFK_lYP9pbOU"
      },
      "source": [
        "*I came to Python not because I thought it was a better/acceptable/pragmatic Lisp, but because it was better pseudocode.*\n",
        "\n",
        "-- Peter Norvig, diretor de pesquisa da Google"
      ]
    },
    {
      "cell_type": "markdown",
      "metadata": {
        "id": "UGNYSrALqEEo"
      },
      "source": [
        "## Variáveis e tipos de dados"
      ]
    },
    {
      "cell_type": "markdown",
      "metadata": {
        "id": "jTDTz5fCqZLL"
      },
      "source": [
        "Quando especificamos um `algoritmo`, detalhamos os `dados` que serão processados e as `instruções` (ou comandos), que comandam o funcionamento da máquina e determinam como os dados devem ser manipulados."
      ]
    },
    {
      "cell_type": "markdown",
      "metadata": {
        "id": "F0LD7Xi1HKaC"
      },
      "source": [
        "* **Variáveis** são espaços reservados na memória para armazenar os dados;\n",
        "* Elas possuem nome único que as identifica e um valor;\n",
        "* Uma variável também possui um **tipo de dado** correspondente ao valor que será armazenado."
      ]
    },
    {
      "cell_type": "markdown",
      "metadata": {
        "id": "yNn93VQ8kVSv"
      },
      "source": [
        "**Regras**\n",
        "1. Não pode começar com números;\n",
        "2. Não pode conter espaços em branco;\n",
        "3. Não pode conter caracteres especiais (#, ?, !, @, +, -,...);\n",
        "4. Não pode ser uma palavra reservada da linguagem."
      ]
    },
    {
      "cell_type": "markdown",
      "metadata": {
        "id": "IVtvGR0uF8ZD"
      },
      "source": [
        "**Tipo de dado: inteiro**"
      ]
    },
    {
      "cell_type": "code",
      "metadata": {
        "id": "jAytdsPIlpTH"
      },
      "source": [
        "idade = 26"
      ],
      "execution_count": null,
      "outputs": []
    },
    {
      "cell_type": "code",
      "metadata": {
        "id": "woaA3uCtJHqx",
        "colab": {
          "base_uri": "https://localhost:8080/"
        },
        "outputId": "ce42dac2-7b38-4347-85de-bc137f1e59b9"
      },
      "source": [
        "idade"
      ],
      "execution_count": null,
      "outputs": [
        {
          "output_type": "execute_result",
          "data": {
            "text/plain": [
              "26"
            ]
          },
          "metadata": {
            "tags": []
          },
          "execution_count": 3
        }
      ]
    },
    {
      "cell_type": "markdown",
      "metadata": {
        "id": "qUpd8r3vGAtp"
      },
      "source": [
        "**Tipo de dado: real**"
      ]
    },
    {
      "cell_type": "code",
      "metadata": {
        "id": "DX4NQLyFGBHS"
      },
      "source": [
        "salario = 8716.98"
      ],
      "execution_count": null,
      "outputs": []
    },
    {
      "cell_type": "code",
      "metadata": {
        "id": "HyMQisxCJKB5",
        "colab": {
          "base_uri": "https://localhost:8080/"
        },
        "outputId": "197103d3-cf38-490e-d94a-cef389ebcc11"
      },
      "source": [
        "salario"
      ],
      "execution_count": null,
      "outputs": [
        {
          "output_type": "execute_result",
          "data": {
            "text/plain": [
              "8716.98"
            ]
          },
          "metadata": {
            "tags": []
          },
          "execution_count": 5
        }
      ]
    },
    {
      "cell_type": "markdown",
      "metadata": {
        "id": "5FvtSUXHGIIa"
      },
      "source": [
        "**Tipo de dado: caractere**"
      ]
    },
    {
      "cell_type": "code",
      "metadata": {
        "id": "jFlndlaDGINL"
      },
      "source": [
        "sexo = 'F'"
      ],
      "execution_count": null,
      "outputs": []
    },
    {
      "cell_type": "code",
      "metadata": {
        "id": "aQ_s01jDJLjB"
      },
      "source": [
        "sexo"
      ],
      "execution_count": null,
      "outputs": []
    },
    {
      "cell_type": "markdown",
      "metadata": {
        "id": "O4EbNWliGEYy"
      },
      "source": [
        "**Tipo de dado: cadeia de caracteres**"
      ]
    },
    {
      "cell_type": "code",
      "metadata": {
        "id": "0M9E5mCfGEg7"
      },
      "source": [
        "nome = \"João Carlos\""
      ],
      "execution_count": null,
      "outputs": []
    },
    {
      "cell_type": "code",
      "metadata": {
        "id": "Vtz4Edw-JNJI",
        "colab": {
          "base_uri": "https://localhost:8080/",
          "height": 35
        },
        "outputId": "909c3d31-165a-4436-e755-0554ca3567f3"
      },
      "source": [
        "nome"
      ],
      "execution_count": null,
      "outputs": [
        {
          "output_type": "execute_result",
          "data": {
            "application/vnd.google.colaboratory.intrinsic+json": {
              "type": "string"
            },
            "text/plain": [
              "'João Carlos'"
            ]
          },
          "metadata": {
            "tags": []
          },
          "execution_count": 7
        }
      ]
    },
    {
      "cell_type": "code",
      "metadata": {
        "id": "sd0EIri_mLlv",
        "colab": {
          "base_uri": "https://localhost:8080/",
          "height": 35
        },
        "outputId": "18272066-fbbe-4d7c-d27f-5fda55ed2447"
      },
      "source": [
        "nome[0:4]"
      ],
      "execution_count": null,
      "outputs": [
        {
          "output_type": "execute_result",
          "data": {
            "application/vnd.google.colaboratory.intrinsic+json": {
              "type": "string"
            },
            "text/plain": [
              "'João'"
            ]
          },
          "metadata": {
            "tags": []
          },
          "execution_count": 8
        }
      ]
    },
    {
      "cell_type": "code",
      "metadata": {
        "id": "UbtoxZ2zmcn3",
        "colab": {
          "base_uri": "https://localhost:8080/",
          "height": 35
        },
        "outputId": "02cf47b8-2293-492e-fdf4-903c35622ad4"
      },
      "source": [
        "nome + ' Pereira'"
      ],
      "execution_count": null,
      "outputs": [
        {
          "output_type": "execute_result",
          "data": {
            "application/vnd.google.colaboratory.intrinsic+json": {
              "type": "string"
            },
            "text/plain": [
              "'João Carlos Pereira'"
            ]
          },
          "metadata": {
            "tags": []
          },
          "execution_count": 9
        }
      ]
    },
    {
      "cell_type": "code",
      "metadata": {
        "id": "73X1IBgemWFn",
        "colab": {
          "base_uri": "https://localhost:8080/",
          "height": 35
        },
        "outputId": "79fb794d-cca8-4c82-d238-7823199b8573"
      },
      "source": [
        "nome * 2"
      ],
      "execution_count": null,
      "outputs": [
        {
          "output_type": "execute_result",
          "data": {
            "application/vnd.google.colaboratory.intrinsic+json": {
              "type": "string"
            },
            "text/plain": [
              "'João CarlosJoão Carlos'"
            ]
          },
          "metadata": {
            "tags": []
          },
          "execution_count": 10
        }
      ]
    },
    {
      "cell_type": "markdown",
      "metadata": {
        "id": "ABjEuUe1GEm5"
      },
      "source": [
        "**Tipo de dado: lógico**"
      ]
    },
    {
      "cell_type": "code",
      "metadata": {
        "id": "F5kFYRQ8GEq-"
      },
      "source": [
        "tem_carro = False\n",
        "tem_carro"
      ],
      "execution_count": null,
      "outputs": []
    },
    {
      "cell_type": "code",
      "metadata": {
        "id": "WKPem1vzIQWK"
      },
      "source": [
        "tem_casa = True\n",
        "tem_casa"
      ],
      "execution_count": null,
      "outputs": []
    },
    {
      "cell_type": "markdown",
      "metadata": {
        "id": "vKnqhdqeIFsE"
      },
      "source": [
        "**Formas de atribuição de valores**"
      ]
    },
    {
      "cell_type": "code",
      "metadata": {
        "id": "3WCTDzQMILSj"
      },
      "source": [
        "x = 1 + 2"
      ],
      "execution_count": null,
      "outputs": []
    },
    {
      "cell_type": "code",
      "metadata": {
        "id": "faW3hYkVI_Vp"
      },
      "source": [
        "x = y = 10000"
      ],
      "execution_count": null,
      "outputs": []
    },
    {
      "cell_type": "code",
      "metadata": {
        "id": "BuEeLixmIF85"
      },
      "source": [
        "a, b, c = 10, 20, 30"
      ],
      "execution_count": null,
      "outputs": []
    },
    {
      "cell_type": "markdown",
      "metadata": {
        "id": "-IoZNNFnqGT0"
      },
      "source": [
        "## Comandos de entrada e saída"
      ]
    },
    {
      "cell_type": "markdown",
      "metadata": {
        "id": "062Zq1m1q8XK"
      },
      "source": [
        "Os algoritmos precisam ser alimentados com dados provenientes do meio externo para efetuarem as operações e cálculos. Também é necessário mostrar os resultados aos usuários ou a outros processos."
      ]
    },
    {
      "cell_type": "markdown",
      "metadata": {
        "id": "hbE7mMDjqJON"
      },
      "source": [
        "**Entrada de dados**"
      ]
    },
    {
      "cell_type": "code",
      "metadata": {
        "id": "lkJaaDf3rFh7",
        "colab": {
          "base_uri": "https://localhost:8080/"
        },
        "outputId": "81d66763-f6b4-4583-b3dd-a1719856e631"
      },
      "source": [
        "nome = input(\"Digite seu nome: \")"
      ],
      "execution_count": null,
      "outputs": [
        {
          "output_type": "stream",
          "text": [
            "Digite seu nome: Dan\n"
          ],
          "name": "stdout"
        }
      ]
    },
    {
      "cell_type": "code",
      "metadata": {
        "id": "LV-aANxprS__",
        "colab": {
          "base_uri": "https://localhost:8080/"
        },
        "outputId": "d22dbd2d-29d4-4822-85d0-81c8621ff10d"
      },
      "source": [
        "idade = int(input(\"Digite sua idade: \"))"
      ],
      "execution_count": null,
      "outputs": [
        {
          "output_type": "stream",
          "text": [
            "Digite sua idade: 10\n"
          ],
          "name": "stdout"
        }
      ]
    },
    {
      "cell_type": "code",
      "metadata": {
        "id": "SjWMsMcerZj5",
        "colab": {
          "base_uri": "https://localhost:8080/"
        },
        "outputId": "3e4e6cba-7785-4f8d-97e8-a2787da0a934"
      },
      "source": [
        "salario = float(input(\"Digite seu salário: \"))"
      ],
      "execution_count": null,
      "outputs": [
        {
          "output_type": "stream",
          "text": [
            "Digite seu salário: 15\n"
          ],
          "name": "stdout"
        }
      ]
    },
    {
      "cell_type": "markdown",
      "metadata": {
        "id": "fxEE95BnrFsH"
      },
      "source": [
        "**Saída de dados**"
      ]
    },
    {
      "cell_type": "code",
      "metadata": {
        "id": "ms8As7XRrFwV",
        "colab": {
          "base_uri": "https://localhost:8080/"
        },
        "outputId": "8dbe30b8-970a-4691-bc38-0a5294108b7e"
      },
      "source": [
        "print(nome)"
      ],
      "execution_count": null,
      "outputs": [
        {
          "output_type": "stream",
          "text": [
            "Dan\n"
          ],
          "name": "stdout"
        }
      ]
    },
    {
      "cell_type": "code",
      "metadata": {
        "id": "JdXIeQygsycE",
        "colab": {
          "base_uri": "https://localhost:8080/"
        },
        "outputId": "344eb69c-bcd3-49fe-98cc-01fddfe768af"
      },
      "source": [
        "print(\"Nome: \", nome)"
      ],
      "execution_count": null,
      "outputs": [
        {
          "output_type": "stream",
          "text": [
            "Nome:  Dan\n"
          ],
          "name": "stdout"
        }
      ]
    },
    {
      "cell_type": "code",
      "metadata": {
        "id": "2cfQ0BvEm0KZ",
        "colab": {
          "base_uri": "https://localhost:8080/"
        },
        "outputId": "b95cefb4-12fc-49ac-8295-1485266db4c5"
      },
      "source": [
        "print(\"Idade: \", end='')\n",
        "print(idade)"
      ],
      "execution_count": null,
      "outputs": [
        {
          "output_type": "stream",
          "text": [
            "Idade: 10\n"
          ],
          "name": "stdout"
        }
      ]
    },
    {
      "cell_type": "code",
      "metadata": {
        "id": "jiHsPa-xs6pU",
        "colab": {
          "base_uri": "https://localhost:8080/"
        },
        "outputId": "644195b8-82f6-4c0a-817c-53b841e83f00"
      },
      "source": [
        "print(\"Salário: %.4f\" % salario)"
      ],
      "execution_count": null,
      "outputs": [
        {
          "output_type": "stream",
          "text": [
            "Salário: 15.0000\n"
          ],
          "name": "stdout"
        }
      ]
    },
    {
      "cell_type": "code",
      "metadata": {
        "id": "u7GoIvq6tEUF",
        "colab": {
          "base_uri": "https://localhost:8080/"
        },
        "outputId": "a67957c3-bf33-4100-fdb7-04e9cdaec7ba"
      },
      "source": [
        "print(\"Meu nome é {0}, eu tenho {1} anos e ganho R$ {2} por mês.\".format(nome, idade, salario))"
      ],
      "execution_count": null,
      "outputs": [
        {
          "output_type": "stream",
          "text": [
            "Meu nome é Dan, eu tenho 10 anos e ganho R$ 15.0 por mês.\n"
          ],
          "name": "stdout"
        }
      ]
    },
    {
      "cell_type": "markdown",
      "metadata": {
        "id": "vrc7QNYCqMDV"
      },
      "source": [
        "## Operadores e operações"
      ]
    },
    {
      "cell_type": "markdown",
      "metadata": {
        "id": "NC3YGraUtsD1"
      },
      "source": [
        "`Operadores` manipulam o valor dos `operandos` e executam `operações`."
      ]
    },
    {
      "cell_type": "markdown",
      "metadata": {
        "id": "PJSExHGMtw0G"
      },
      "source": [
        "**Operadores aritméticos**"
      ]
    },
    {
      "cell_type": "code",
      "metadata": {
        "id": "Pkprh-drqQ9b",
        "colab": {
          "base_uri": "https://localhost:8080/"
        },
        "outputId": "e7d6c2cb-4e56-4092-db9d-79260bb588e5"
      },
      "source": [
        "# Soma\n",
        "a = 1 + 2\n",
        "print(a)"
      ],
      "execution_count": null,
      "outputs": [
        {
          "output_type": "stream",
          "text": [
            "3\n"
          ],
          "name": "stdout"
        }
      ]
    },
    {
      "cell_type": "code",
      "metadata": {
        "id": "lseDoi4qt6Bd",
        "colab": {
          "base_uri": "https://localhost:8080/"
        },
        "outputId": "01c9cd76-c2f5-4b3f-ec90-ba206f284a8e"
      },
      "source": [
        "# Subtração\n",
        "b = 2 - 1\n",
        "print(b)"
      ],
      "execution_count": null,
      "outputs": [
        {
          "output_type": "stream",
          "text": [
            "1\n"
          ],
          "name": "stdout"
        }
      ]
    },
    {
      "cell_type": "code",
      "metadata": {
        "id": "GQ2JiU7Mt-WL",
        "colab": {
          "base_uri": "https://localhost:8080/"
        },
        "outputId": "6076e495-496d-47a9-ce7b-a10e10d13232"
      },
      "source": [
        "# Multiplicação\n",
        "c = 2 * 3.5\n",
        "print(c)"
      ],
      "execution_count": null,
      "outputs": [
        {
          "output_type": "stream",
          "text": [
            "7.0\n"
          ],
          "name": "stdout"
        }
      ]
    },
    {
      "cell_type": "code",
      "metadata": {
        "id": "z3_olJwAt8lK",
        "colab": {
          "base_uri": "https://localhost:8080/"
        },
        "outputId": "cc08f9ba-f58c-4ac3-e2ef-d18685a15855"
      },
      "source": [
        "# Divisão\n",
        "d = 4 / 2\n",
        "print(d)"
      ],
      "execution_count": null,
      "outputs": [
        {
          "output_type": "stream",
          "text": [
            "2.0\n"
          ],
          "name": "stdout"
        }
      ]
    },
    {
      "cell_type": "code",
      "metadata": {
        "id": "9TOmck0GuDOL",
        "colab": {
          "base_uri": "https://localhost:8080/"
        },
        "outputId": "8f63af2c-a323-44ab-edfc-26322fcfc2cd"
      },
      "source": [
        "# Resto da divisão de números inteiros\n",
        "e = 10 % 3\n",
        "print(e)"
      ],
      "execution_count": null,
      "outputs": [
        {
          "output_type": "stream",
          "text": [
            "1\n"
          ],
          "name": "stdout"
        }
      ]
    },
    {
      "cell_type": "code",
      "metadata": {
        "id": "P3ekb5jquOtT",
        "colab": {
          "base_uri": "https://localhost:8080/"
        },
        "outputId": "2be04065-dca1-4093-f690-029b127abd03"
      },
      "source": [
        "# Divisão de ponto flutuante\n",
        "# Devolve a parte inteira\n",
        "f = 9.0 // 2.0\n",
        "print(f)"
      ],
      "execution_count": null,
      "outputs": [
        {
          "output_type": "stream",
          "text": [
            "4.0\n"
          ],
          "name": "stdout"
        }
      ]
    },
    {
      "cell_type": "code",
      "metadata": {
        "id": "vi9d4GB9uq3E",
        "colab": {
          "base_uri": "https://localhost:8080/"
        },
        "outputId": "f7601a9e-dcc7-47e6-fd13-499eff190e10"
      },
      "source": [
        "# Exponenciação\n",
        "g = 3 ** 2\n",
        "print(g)"
      ],
      "execution_count": null,
      "outputs": [
        {
          "output_type": "stream",
          "text": [
            "9\n"
          ],
          "name": "stdout"
        }
      ]
    },
    {
      "cell_type": "markdown",
      "metadata": {
        "id": "QSjPXn3mvhU2"
      },
      "source": [
        "**Operadores relacionais**"
      ]
    },
    {
      "cell_type": "code",
      "metadata": {
        "id": "14wp-KVXvq1U",
        "colab": {
          "base_uri": "https://localhost:8080/"
        },
        "outputId": "1624e7ea-92dd-47ab-c7f5-e2bc1243dab0"
      },
      "source": [
        "resposta = (1 == 1)\n",
        "print(resposta)"
      ],
      "execution_count": null,
      "outputs": [
        {
          "output_type": "stream",
          "text": [
            "True\n"
          ],
          "name": "stdout"
        }
      ]
    },
    {
      "cell_type": "code",
      "metadata": {
        "id": "5YpVTgePvrGb",
        "colab": {
          "base_uri": "https://localhost:8080/"
        },
        "outputId": "f9e29eb1-20fb-455c-c687-7870fb08bc24"
      },
      "source": [
        "resposta = (1 == 2)\n",
        "print(resposta)"
      ],
      "execution_count": null,
      "outputs": [
        {
          "output_type": "stream",
          "text": [
            "False\n"
          ],
          "name": "stdout"
        }
      ]
    },
    {
      "cell_type": "code",
      "metadata": {
        "id": "kcTOycxtvrJd",
        "colab": {
          "base_uri": "https://localhost:8080/"
        },
        "outputId": "fce53a1b-b946-4ae2-d74f-39aa5138f549"
      },
      "source": [
        "resposta = (1 != 2)\n",
        "print(resposta)"
      ],
      "execution_count": null,
      "outputs": [
        {
          "output_type": "stream",
          "text": [
            "True\n"
          ],
          "name": "stdout"
        }
      ]
    },
    {
      "cell_type": "code",
      "metadata": {
        "id": "amwWOC89wCfc",
        "colab": {
          "base_uri": "https://localhost:8080/"
        },
        "outputId": "45395792-b55d-47cc-96c1-197006b91f36"
      },
      "source": [
        "resposta = (1 > 2)\n",
        "print(resposta)"
      ],
      "execution_count": null,
      "outputs": [
        {
          "output_type": "stream",
          "text": [
            "False\n"
          ],
          "name": "stdout"
        }
      ]
    },
    {
      "cell_type": "code",
      "metadata": {
        "id": "UnyBlBPBwEFD",
        "colab": {
          "base_uri": "https://localhost:8080/"
        },
        "outputId": "5fa74b8b-1743-4dc8-f703-c336fd6d2ba1"
      },
      "source": [
        "resposta = (1 < 2)\n",
        "print(resposta)"
      ],
      "execution_count": null,
      "outputs": [
        {
          "output_type": "stream",
          "text": [
            "True\n"
          ],
          "name": "stdout"
        }
      ]
    },
    {
      "cell_type": "code",
      "metadata": {
        "id": "b3-ijuhLwH4b",
        "colab": {
          "base_uri": "https://localhost:8080/"
        },
        "outputId": "2ec1695e-2e82-4358-f2b5-2e1c587ed5e8"
      },
      "source": [
        "resposta = (1 >= 2)\n",
        "print(resposta)"
      ],
      "execution_count": null,
      "outputs": [
        {
          "output_type": "stream",
          "text": [
            "False\n"
          ],
          "name": "stdout"
        }
      ]
    },
    {
      "cell_type": "code",
      "metadata": {
        "id": "UJHmZlrFwIWk",
        "colab": {
          "base_uri": "https://localhost:8080/"
        },
        "outputId": "eee6a1a6-244c-46bd-dcf6-beb803672244"
      },
      "source": [
        "resposta = (2 <= 2)\n",
        "print(resposta)"
      ],
      "execution_count": null,
      "outputs": [
        {
          "output_type": "stream",
          "text": [
            "True\n"
          ],
          "name": "stdout"
        }
      ]
    },
    {
      "cell_type": "markdown",
      "metadata": {
        "id": "t2K0hewXwbYl"
      },
      "source": [
        "**Operadores lógicos**"
      ]
    },
    {
      "cell_type": "code",
      "metadata": {
        "id": "LJRYR-ulyVnh",
        "colab": {
          "base_uri": "https://localhost:8080/"
        },
        "outputId": "d64d5807-689a-4d01-e39d-81582f21312a"
      },
      "source": [
        "print(\"NÃO (Verdadeiro): \", not True)\n",
        "print(\"NÃO (Falso)     : \", not False)"
      ],
      "execution_count": null,
      "outputs": [
        {
          "output_type": "stream",
          "text": [
            "NÃO (Verdadeiro):  False\n",
            "NÃO (Falso)     :  True\n"
          ],
          "name": "stdout"
        }
      ]
    },
    {
      "cell_type": "code",
      "metadata": {
        "id": "7pCT-_rSwdac",
        "colab": {
          "base_uri": "https://localhost:8080/"
        },
        "outputId": "9c52578a-edf7-4a1b-8004-ef3fc3acc55b"
      },
      "source": [
        "print(\"(Verdadeiro) E (Verdadeiro): \", True and True)\n",
        "print(\"(Verdadeiro) E (Falso)     : \", True and False)\n",
        "print(\"(Falso)      E (Verdadeiro): \", False and True)\n",
        "print(\"(Falso)      E (Falso)     : \", False and False)"
      ],
      "execution_count": null,
      "outputs": [
        {
          "output_type": "stream",
          "text": [
            "(Verdadeiro) E (Verdadeiro):  True\n",
            "(Verdadeiro) E (Falso)     :  False\n",
            "(Falso)      E (Verdadeiro):  False\n",
            "(Falso)      E (Falso)     :  False\n"
          ],
          "name": "stdout"
        }
      ]
    },
    {
      "cell_type": "code",
      "metadata": {
        "id": "9m49BvX5x157",
        "colab": {
          "base_uri": "https://localhost:8080/"
        },
        "outputId": "bbe88406-dbf3-4240-b26d-66270d3506ec"
      },
      "source": [
        "print(\"(Verdadeiro) OU (Verdadeiro): \", True and True)\n",
        "print(\"(Verdadeiro) OU (Falso)     : \", True and False)\n",
        "print(\"(Falso)      OU (Verdadeiro): \", False and True)\n",
        "print(\"(Falso)      OU (Falso)     : \", False and False)"
      ],
      "execution_count": null,
      "outputs": [
        {
          "output_type": "stream",
          "text": [
            "(Verdadeiro) OU (Verdadeiro):  True\n",
            "(Verdadeiro) OU (Falso)     :  False\n",
            "(Falso)      OU (Verdadeiro):  False\n",
            "(Falso)      OU (Falso)     :  False\n"
          ],
          "name": "stdout"
        }
      ]
    },
    {
      "cell_type": "markdown",
      "metadata": {
        "id": "7sxhCBxxqRmT"
      },
      "source": [
        "## Métodos, procedimentos e funções"
      ]
    },
    {
      "cell_type": "markdown",
      "metadata": {
        "id": "rS_oUPpWqXlm"
      },
      "source": [
        "Um algoritmo pode ser simplificado quando dividido em vários `métodos`, que podem ser classificados em `procedimentos` (sem retorno de valor) e `funções` (com retorno de valor). A principal vantagem da construção e utilização de métodos é a possibilidade de reutilizá-los diversas vezes ao longo do código."
      ]
    },
    {
      "cell_type": "markdown",
      "metadata": {
        "id": "Smq7bWwT1KCy"
      },
      "source": [
        "**Procedimentos**"
      ]
    },
    {
      "cell_type": "code",
      "metadata": {
        "id": "DWAtBzAvqUPk"
      },
      "source": [
        "# Definição\n",
        "def cumprimenta():\n",
        "  print(\"Olá, tudo bem?\")"
      ],
      "execution_count": null,
      "outputs": []
    },
    {
      "cell_type": "code",
      "metadata": {
        "id": "Vc03fp1pqURy"
      },
      "source": [
        "# Utilização\n",
        "cumprimenta()"
      ],
      "execution_count": null,
      "outputs": []
    },
    {
      "cell_type": "code",
      "metadata": {
        "id": "2X3FtG6cqUUn"
      },
      "source": [
        "# Definição com parâmetros\n",
        "def cumprimentaComNome(nome):\n",
        "  print(\"Olá, {0}! Tudo bem com você?\".format(nome))"
      ],
      "execution_count": null,
      "outputs": []
    },
    {
      "cell_type": "code",
      "metadata": {
        "id": "VIjD6H5O16Fg"
      },
      "source": [
        "# Utilização\n",
        "cumprimentaComNome(\"João\")"
      ],
      "execution_count": null,
      "outputs": []
    },
    {
      "cell_type": "markdown",
      "metadata": {
        "id": "rN1idN6bqUfj"
      },
      "source": [
        "**Funções**"
      ]
    },
    {
      "cell_type": "code",
      "metadata": {
        "id": "2jnGTyNf1WA2"
      },
      "source": [
        "# Definição\n",
        "def soma(x, y):\n",
        "  return x + y"
      ],
      "execution_count": null,
      "outputs": []
    },
    {
      "cell_type": "code",
      "metadata": {
        "id": "sComVMvf5tdo"
      },
      "source": [
        "# Utilização\n",
        "print(soma(10, 20))\n",
        "print(soma(20, 30))\n",
        "print(soma(30, 40))\n",
        "print(soma(40, 50))"
      ],
      "execution_count": null,
      "outputs": []
    },
    {
      "cell_type": "code",
      "metadata": {
        "id": "SO3aTqHw5zg3"
      },
      "source": [
        "resultado = soma(soma(10, 20), soma(100, 200))\n",
        "print(resultado)"
      ],
      "execution_count": null,
      "outputs": []
    },
    {
      "cell_type": "markdown",
      "metadata": {
        "id": "n163bbfyqbbE"
      },
      "source": [
        "## Estruturas de seleção"
      ]
    },
    {
      "cell_type": "markdown",
      "metadata": {
        "id": "ZNtPIqOf95up"
      },
      "source": [
        "A tomada de decisão é a antecipação das condições que ocorrem durante a execução do programa e a especificação das ações executadas de acordo com as condições. As estruturas de seleção avaliam várias expressões que produzem VERDADEIRO ou FALSO como resultado. Você precisa determinar qual ação tomar e quais instruções executar se o resultado for VERDADEIRO ou FALSO."
      ]
    },
    {
      "cell_type": "markdown",
      "metadata": {
        "id": "e2NDzmS2G-kK"
      },
      "source": [
        "![picture](https://upload.wikimedia.org/wikipedia/commons/4/46/LampFlowchart_pt.svg)"
      ]
    },
    {
      "cell_type": "markdown",
      "metadata": {
        "id": "vSFUaiIoBavf"
      },
      "source": [
        "**Estrutura SE (if)**"
      ]
    },
    {
      "cell_type": "code",
      "metadata": {
        "id": "jXJGFLLJqdEv"
      },
      "source": [
        "salario = 1200.00\n",
        "if (salario < 2000):\n",
        "  print(\"Você pode ganhar mais!\")"
      ],
      "execution_count": null,
      "outputs": []
    },
    {
      "cell_type": "code",
      "metadata": {
        "id": "cMwed9UMCqvU"
      },
      "source": [
        "idade = 20\n",
        "salario = 1200.00\n",
        "\n",
        "if (idade >= 18 and salario < 2000):\n",
        "  print(\"Você é jovem e pode ganhar mais!\")"
      ],
      "execution_count": null,
      "outputs": []
    },
    {
      "cell_type": "markdown",
      "metadata": {
        "id": "TBdLh_ExBiW-"
      },
      "source": [
        "**Estrutura SE-SENÃO (if-else)**"
      ]
    },
    {
      "cell_type": "code",
      "metadata": {
        "id": "7j7ioWh8Bs7T"
      },
      "source": [
        "idade = 30\n",
        "salario = 8000.00\n",
        "\n",
        "if (idade >= 18 and salario < 2000):\n",
        "  print(\"Você é jovem e pode ganhar mais!\")\n",
        "else:\n",
        "  print(\"Você está ganhando muito bem!\")"
      ],
      "execution_count": null,
      "outputs": []
    },
    {
      "cell_type": "markdown",
      "metadata": {
        "id": "7ShonfWOBtI8"
      },
      "source": [
        "**Estruturas aninhadas (if-elif-else)**"
      ]
    },
    {
      "cell_type": "code",
      "metadata": {
        "id": "zKRX63NyBtVU"
      },
      "source": [
        "idade = 14\n",
        "salario = 4000.00\n",
        "\n",
        "if (idade < 18):\n",
        "  print(\"Você não deveria estar trabalhando!\")\n",
        "elif (idade >= 18 and salario < 2000):\n",
        "  print(\"Você é jovem e pode ganhar mais!\")\n",
        "else:\n",
        "  print(\"Você está ganhando muito bem!\")"
      ],
      "execution_count": null,
      "outputs": []
    },
    {
      "cell_type": "markdown",
      "metadata": {
        "id": "29Y8bnFBqhrU"
      },
      "source": [
        "## Estruturas de repetição"
      ]
    },
    {
      "cell_type": "markdown",
      "metadata": {
        "id": "vdblln3nGeIz"
      },
      "source": [
        "Em geral, as instruções são executadas sequencialmente. Porém, podem haver situações em que você precise executar um bloco de código várias vezes. Uma estrutura de repetição (*loop* ou laço) nos permite executar uma instrução ou grupo de instruções várias vezes."
      ]
    },
    {
      "cell_type": "markdown",
      "metadata": {
        "id": "1zHCGtiTIW9b"
      },
      "source": [
        "* **Laços contados:** utiliza um contador que auxiliará no laço, possibilitando a repetição da estrutura até que o contador atinja o limite determinado na condição;\n",
        "* **Laços condicionais:** o valor é desconhecido e devemos utilizar uma variável com valor pré-definido em uma condição dentro do laço para finalizarmos a repetição."
      ]
    },
    {
      "cell_type": "markdown",
      "metadata": {
        "id": "1POFRlfyHhbq"
      },
      "source": [
        "![picture](https://upload.wikimedia.org/wikipedia/commons/0/06/For-loop-diagram.png)"
      ]
    },
    {
      "cell_type": "markdown",
      "metadata": {
        "id": "jd99NctPJZtQ"
      },
      "source": [
        "Independente do tipo de estrutura de repetição, todos os laços são constituídos por três partes: \n",
        "1. Inicialização da variável de controle;\n",
        "2. Condição;\n",
        "3. Atualização da variável de controle."
      ]
    },
    {
      "cell_type": "markdown",
      "metadata": {
        "id": "FzhPzdzlOZE7"
      },
      "source": [
        "**Laço PARA (for)**"
      ]
    },
    {
      "cell_type": "markdown",
      "metadata": {
        "id": "wopho9P_lDZR"
      },
      "source": [
        "Itera sobre os elementos de uma sequência, como uma lista um uma cadeia de caracteres."
      ]
    },
    {
      "cell_type": "code",
      "metadata": {
        "id": "hrzHAHBhGda8"
      },
      "source": [
        "# Percorre sobre um texto\n",
        "nome = \"João Carlos Pereira\"\n",
        "for c in nome:\n",
        "  print(c, end='-')"
      ],
      "execution_count": null,
      "outputs": []
    },
    {
      "cell_type": "code",
      "metadata": {
        "id": "4N_xTVSHqi48"
      },
      "source": [
        "# Imprime os números de 0 a 10\n",
        "# Função range: cria uma sequência de valores\n",
        "for n in range(10):\n",
        "  print(n, end=' ')"
      ],
      "execution_count": null,
      "outputs": []
    },
    {
      "cell_type": "code",
      "metadata": {
        "id": "awrHw4L_qi-Q"
      },
      "source": [
        "# Imprime os números de 5 a 15\n",
        "for n in range(5, 16):\n",
        "  print(n, end=' ')"
      ],
      "execution_count": null,
      "outputs": []
    },
    {
      "cell_type": "code",
      "metadata": {
        "id": "5QGQQ2Iunhrq"
      },
      "source": [
        "# Imprime os números pares de 0 a 10\n",
        "for n in range(0, 11, 2):\n",
        "  print(n, end=' ')"
      ],
      "execution_count": null,
      "outputs": []
    },
    {
      "cell_type": "code",
      "metadata": {
        "id": "HH0GagztnZOQ"
      },
      "source": [
        "# Imprime uma sequência de palavras\n",
        "salada_mista = ['maçã', 'banana', 'uva', 'pêra']\n",
        "for fruta in salada_mista:\n",
        "  print(fruta)"
      ],
      "execution_count": null,
      "outputs": []
    },
    {
      "cell_type": "code",
      "metadata": {
        "id": "tZskotPiqcGr"
      },
      "source": [
        "# Imprime uma sequência de palavras pelo índice da sequência\n",
        "lista_nomes = ['João', 'Maria', 'Carlos', 'Renata']\n",
        "for idx in range(len(lista_nomes)):\n",
        "  print(\"Índice: \", idx, end='\\t')\n",
        "  print(\"Nome:\", lista_nomes[idx])"
      ],
      "execution_count": null,
      "outputs": []
    },
    {
      "cell_type": "markdown",
      "metadata": {
        "id": "ZhfQJ_pLj454"
      },
      "source": [
        "**Declação BREAK**"
      ]
    },
    {
      "cell_type": "markdown",
      "metadata": {
        "id": "whPG0Yw8susG"
      },
      "source": [
        "Encerra o laço e segue para a próxima instrução fora da estrutura de repetição."
      ]
    },
    {
      "cell_type": "code",
      "metadata": {
        "id": "fumVUSmZj-lJ"
      },
      "source": [
        "# Recebe uma lista de números entre 0 e 100 e\n",
        "# Imprime até o número 25, interrompendo o laço.\n",
        "for i in range(0, 101):  \n",
        "  if (i > 25):\n",
        "    break\n",
        "  print(i, end=' ')"
      ],
      "execution_count": null,
      "outputs": []
    },
    {
      "cell_type": "markdown",
      "metadata": {
        "id": "F1YbjaDlj-wo"
      },
      "source": [
        "**Declação CONTINUE**"
      ]
    },
    {
      "cell_type": "markdown",
      "metadata": {
        "id": "QGmnpbNts3dl"
      },
      "source": [
        "Devolve o controle da repetição ao início do laço."
      ]
    },
    {
      "cell_type": "code",
      "metadata": {
        "id": "uFrLAfO_kCFA"
      },
      "source": [
        "# Imprime os números pares entre 0 e 20\n",
        "for i in range(0, 21):\n",
        "  if (i % 2 != 0):\n",
        "    continue\n",
        "  print(i)"
      ],
      "execution_count": null,
      "outputs": []
    },
    {
      "cell_type": "markdown",
      "metadata": {
        "id": "J5twkgNuOmPv"
      },
      "source": [
        "**Estrutura ENQUANTO (while)**"
      ]
    },
    {
      "cell_type": "markdown",
      "metadata": {
        "id": "8P87BCZesiBQ"
      },
      "source": [
        "A condição é verificada antes da primeira execução do loop. Se a condição for falsa na 1ª vez que for avaliada, as instruções desse laço não serão executadas nenhuma vez."
      ]
    },
    {
      "cell_type": "code",
      "metadata": {
        "id": "vHmKHX8IOoYm"
      },
      "source": [
        "# Loop contado\n",
        "contador = 1\n",
        "while contador <= 25:\n",
        "  print(contador, end=' ')\n",
        "  contador = contador + 1"
      ],
      "execution_count": null,
      "outputs": []
    },
    {
      "cell_type": "code",
      "metadata": {
        "id": "VUJ4MnQxOoa5"
      },
      "source": [
        "# Loop condicional\n",
        "resposta = 'S'\n",
        "while resposta == 'S':\n",
        "  peso = float(input(\"Peso (kg): \"))\n",
        "  altura = float(input(\"Altura (m): \"))\n",
        "  imc = peso / altura ** 2\n",
        "  print(\"IMC: %.2f\" % imc)\n",
        "\n",
        "  resposta = input(\"Deseja continuar (S/N)? \")"
      ],
      "execution_count": null,
      "outputs": []
    },
    {
      "cell_type": "markdown",
      "metadata": {
        "id": "05PfUboKsOkU"
      },
      "source": [
        "## Exercícios"
      ]
    },
    {
      "cell_type": "markdown",
      "metadata": {
        "id": "jrZ6YXn7BmtV"
      },
      "source": [
        "**1 #** Elabore um algoritmo que solicite dois números ao usuário e imprima a soma entre esses números."
      ]
    },
    {
      "cell_type": "code",
      "metadata": {
        "id": "qUiasIEMBm0-",
        "colab": {
          "base_uri": "https://localhost:8080/"
        },
        "outputId": "732d884c-1243-4830-855c-1eed1391a270"
      },
      "source": [
        "numero1 = float(input(\"Digite o primeiro número \"))\n",
        "numero2 = float(input(\"Digite o segundo número \"))\n",
        "total = numero1 + numero2\n",
        "print (\"Total: \", total)\n"
      ],
      "execution_count": null,
      "outputs": [
        {
          "output_type": "stream",
          "text": [
            "Digite o primeiro número 5\n",
            "Digite o segundo número 10\n",
            "Total:  15.0\n"
          ],
          "name": "stdout"
        }
      ]
    },
    {
      "cell_type": "markdown",
      "metadata": {
        "id": "2a6kdE5QBm7i"
      },
      "source": [
        "**2 #** Elabore um algoritmo que leia quanto você ganha por hora e o número de horas trabalhadas no mês. Calcule e mostre o total do seu salário no referido mês."
      ]
    },
    {
      "cell_type": "code",
      "metadata": {
        "id": "B_yszOTrBnAI",
        "colab": {
          "base_uri": "https://localhost:8080/"
        },
        "outputId": "87732739-60ee-4ec5-f05e-a4109e4f080d"
      },
      "source": [
        "numero1 = float(input(\"Qual o valor da sua hora? \"))\n",
        "numero2 = float(input(\"Quantidade de horas trabalhadas no mês? \"))\n",
        "total = numero1 * numero2\n",
        "print (\"Salário por hora trabalhada: \", total)\n"
      ],
      "execution_count": null,
      "outputs": [
        {
          "output_type": "stream",
          "text": [
            "Qual o valor da sua hora? 25.75\n",
            "Quantidade de horas trabalhadas no mês? 100\n",
            "Salário por hora trabalhada:  2575.0\n"
          ],
          "name": "stdout"
        }
      ]
    },
    {
      "cell_type": "markdown",
      "metadata": {
        "id": "n-3OoFZuBc9-"
      },
      "source": [
        "**3 #** Elabore um algoritmo que leia um valor e mostre na tela se o valor é positivo ou negativo."
      ]
    },
    {
      "cell_type": "code",
      "metadata": {
        "id": "JKLhNRfWBdI3",
        "colab": {
          "base_uri": "https://localhost:8080/"
        },
        "outputId": "07474458-f2e6-40da-8561-dfd1cca1e08b"
      },
      "source": [
        "numero1 = float(input(\"Digite um valor \"))\n",
        "if (numero1 > 0):\n",
        "  print (\"O Valor Digitado é positivo!\")\n",
        "elif (numero1 == 0):\n",
        "    print(\"Nem positivo, nem negativo!\")  \n",
        "else:\n",
        "  print (\"O Valor Digitado é negativo!\")\n",
        "  "
      ],
      "execution_count": null,
      "outputs": [
        {
          "output_type": "stream",
          "text": [
            "Digite um valor 0\n",
            "Nem positivo, nem negativo!\n"
          ],
          "name": "stdout"
        }
      ]
    },
    {
      "cell_type": "markdown",
      "metadata": {
        "id": "mnJrAOjdBdc4"
      },
      "source": [
        "**4 #** Elabore um algoritmo que imprima os números ímpares entre 1 e 100. "
      ]
    },
    {
      "cell_type": "code",
      "metadata": {
        "id": "V7Zpcgy9BdjK",
        "colab": {
          "base_uri": "https://localhost:8080/"
        },
        "outputId": "7e815d30-50f1-4a84-f0b8-53d95d9d5cc1"
      },
      "source": [
        "for n in range(1, 101):\n",
        "  #print (n)\n",
        "  if ((n % 2) > 0 ):\n",
        "    print(n, end='')\n",
        "    print(\" É impar!\")"
      ],
      "execution_count": null,
      "outputs": [
        {
          "output_type": "stream",
          "text": [
            "1 É impar!\n",
            "3 É impar!\n",
            "5 É impar!\n",
            "7 É impar!\n",
            "9 É impar!\n",
            "11 É impar!\n",
            "13 É impar!\n",
            "15 É impar!\n",
            "17 É impar!\n",
            "19 É impar!\n",
            "21 É impar!\n",
            "23 É impar!\n",
            "25 É impar!\n",
            "27 É impar!\n",
            "29 É impar!\n",
            "31 É impar!\n",
            "33 É impar!\n",
            "35 É impar!\n",
            "37 É impar!\n",
            "39 É impar!\n",
            "41 É impar!\n",
            "43 É impar!\n",
            "45 É impar!\n",
            "47 É impar!\n",
            "49 É impar!\n",
            "51 É impar!\n",
            "53 É impar!\n",
            "55 É impar!\n",
            "57 É impar!\n",
            "59 É impar!\n",
            "61 É impar!\n",
            "63 É impar!\n",
            "65 É impar!\n",
            "67 É impar!\n",
            "69 É impar!\n",
            "71 É impar!\n",
            "73 É impar!\n",
            "75 É impar!\n",
            "77 É impar!\n",
            "79 É impar!\n",
            "81 É impar!\n",
            "83 É impar!\n",
            "85 É impar!\n",
            "87 É impar!\n",
            "89 É impar!\n",
            "91 É impar!\n",
            "93 É impar!\n",
            "95 É impar!\n",
            "97 É impar!\n",
            "99 É impar!\n"
          ],
          "name": "stdout"
        }
      ]
    },
    {
      "cell_type": "markdown",
      "metadata": {
        "id": "CPE3SjP9Bdo5"
      },
      "source": [
        "**5 #** Elabore um algoritmo que imprima a tabuada entre 1 e 10, conforme apresentado na saída."
      ]
    },
    {
      "cell_type": "code",
      "metadata": {
        "id": "LEtk_TfnBdtQ",
        "colab": {
          "base_uri": "https://localhost:8080/"
        },
        "outputId": "ddee70c3-5a7f-468f-b65f-fc54bd8aa1b6"
      },
      "source": [
        "for i in range(1, 11):\n",
        "  print (\"\")\n",
        "  for j in range(1, 11):\n",
        "    #\"Meu nome é {0}, eu tenho {1} anos e ganho R$ {2} por mês.\".format(nome, idade, salario)\n",
        "    total = i * j\n",
        "    print (\"{0} x {1} = {2}\".format(i, j, total))\n",
        "    "
      ],
      "execution_count": null,
      "outputs": [
        {
          "output_type": "stream",
          "text": [
            "\n",
            "1 x 1 = 1\n",
            "1 x 2 = 2\n",
            "1 x 3 = 3\n",
            "1 x 4 = 4\n",
            "1 x 5 = 5\n",
            "1 x 6 = 6\n",
            "1 x 7 = 7\n",
            "1 x 8 = 8\n",
            "1 x 9 = 9\n",
            "1 x 10 = 10\n",
            "\n",
            "2 x 1 = 2\n",
            "2 x 2 = 4\n",
            "2 x 3 = 6\n",
            "2 x 4 = 8\n",
            "2 x 5 = 10\n",
            "2 x 6 = 12\n",
            "2 x 7 = 14\n",
            "2 x 8 = 16\n",
            "2 x 9 = 18\n",
            "2 x 10 = 20\n",
            "\n",
            "3 x 1 = 3\n",
            "3 x 2 = 6\n",
            "3 x 3 = 9\n",
            "3 x 4 = 12\n",
            "3 x 5 = 15\n",
            "3 x 6 = 18\n",
            "3 x 7 = 21\n",
            "3 x 8 = 24\n",
            "3 x 9 = 27\n",
            "3 x 10 = 30\n",
            "\n",
            "4 x 1 = 4\n",
            "4 x 2 = 8\n",
            "4 x 3 = 12\n",
            "4 x 4 = 16\n",
            "4 x 5 = 20\n",
            "4 x 6 = 24\n",
            "4 x 7 = 28\n",
            "4 x 8 = 32\n",
            "4 x 9 = 36\n",
            "4 x 10 = 40\n",
            "\n",
            "5 x 1 = 5\n",
            "5 x 2 = 10\n",
            "5 x 3 = 15\n",
            "5 x 4 = 20\n",
            "5 x 5 = 25\n",
            "5 x 6 = 30\n",
            "5 x 7 = 35\n",
            "5 x 8 = 40\n",
            "5 x 9 = 45\n",
            "5 x 10 = 50\n",
            "\n",
            "6 x 1 = 6\n",
            "6 x 2 = 12\n",
            "6 x 3 = 18\n",
            "6 x 4 = 24\n",
            "6 x 5 = 30\n",
            "6 x 6 = 36\n",
            "6 x 7 = 42\n",
            "6 x 8 = 48\n",
            "6 x 9 = 54\n",
            "6 x 10 = 60\n",
            "\n",
            "7 x 1 = 7\n",
            "7 x 2 = 14\n",
            "7 x 3 = 21\n",
            "7 x 4 = 28\n",
            "7 x 5 = 35\n",
            "7 x 6 = 42\n",
            "7 x 7 = 49\n",
            "7 x 8 = 56\n",
            "7 x 9 = 63\n",
            "7 x 10 = 70\n",
            "\n",
            "8 x 1 = 8\n",
            "8 x 2 = 16\n",
            "8 x 3 = 24\n",
            "8 x 4 = 32\n",
            "8 x 5 = 40\n",
            "8 x 6 = 48\n",
            "8 x 7 = 56\n",
            "8 x 8 = 64\n",
            "8 x 9 = 72\n",
            "8 x 10 = 80\n",
            "\n",
            "9 x 1 = 9\n",
            "9 x 2 = 18\n",
            "9 x 3 = 27\n",
            "9 x 4 = 36\n",
            "9 x 5 = 45\n",
            "9 x 6 = 54\n",
            "9 x 7 = 63\n",
            "9 x 8 = 72\n",
            "9 x 9 = 81\n",
            "9 x 10 = 90\n",
            "\n",
            "10 x 1 = 10\n",
            "10 x 2 = 20\n",
            "10 x 3 = 30\n",
            "10 x 4 = 40\n",
            "10 x 5 = 50\n",
            "10 x 6 = 60\n",
            "10 x 7 = 70\n",
            "10 x 8 = 80\n",
            "10 x 9 = 90\n",
            "10 x 10 = 100\n"
          ],
          "name": "stdout"
        }
      ]
    },
    {
      "cell_type": "markdown",
      "metadata": {
        "id": "ZpHaRZ_hsQ1t"
      },
      "source": [
        "**6 #** Elabore um algoritmo que leia um valor representando o gasto realizado por um cliente de um restaurante e imprima o valor total a ser pago, considerando os 10% do garçom."
      ]
    },
    {
      "cell_type": "code",
      "metadata": {
        "id": "JFefwP1osQOr",
        "colab": {
          "base_uri": "https://localhost:8080/"
        },
        "outputId": "e8d5ac45-8031-4e18-ec1f-0304e1811538"
      },
      "source": [
        "numero1 = float(input(\"Digite o valor total da Refeição \"))\n",
        "total = numero1 * 1.10\n",
        "print (\"Total da Refeição com Gorjeta = \", total)"
      ],
      "execution_count": null,
      "outputs": [
        {
          "output_type": "stream",
          "text": [
            "Digite o valor total da Refeição 55000\n",
            "Total da Refeição com Gorjeta =  60500.00000000001\n"
          ],
          "name": "stdout"
        }
      ]
    },
    {
      "cell_type": "markdown",
      "metadata": {
        "id": "WoTi45nCsWUD"
      },
      "source": [
        "**7 #** Elabore um algoritmo que leia dois números inteiros e calcule e mostre o resultado das seguintes operações aritméticas: soma, subtração, multiplicação, divisão e resto da divisão. Construa um método para cada operação e faça com que eles devolvam o valor calculado."
      ]
    },
    {
      "cell_type": "code",
      "metadata": {
        "id": "Zr-VGUvPsWdd"
      },
      "source": [
        "# Método calcula_soma\n",
        "def calcula_soma(valor1, valor2):\n",
        "  return valor1 + valor2"
      ],
      "execution_count": null,
      "outputs": []
    },
    {
      "cell_type": "code",
      "metadata": {
        "id": "Q0MbHc3h7koJ"
      },
      "source": [
        "# Método calcula_subtracao\n",
        "def calcula_subtracao(valor1, valor2):\n",
        "  return valor1 - valor2"
      ],
      "execution_count": null,
      "outputs": []
    },
    {
      "cell_type": "code",
      "metadata": {
        "id": "yBh45z747kqi"
      },
      "source": [
        "# Método calcula_multiplicacao\n",
        "def calcula_multiplicacao(valor1, valor2):\n",
        "  return valor1 * valor2"
      ],
      "execution_count": null,
      "outputs": []
    },
    {
      "cell_type": "code",
      "metadata": {
        "id": "cQ231OAS7ktU"
      },
      "source": [
        "# Método calcula_divisao\n",
        "def calcula_divisao(valor1, valor2):\n",
        "  return valor1 / valor2"
      ],
      "execution_count": null,
      "outputs": []
    },
    {
      "cell_type": "code",
      "metadata": {
        "id": "S8x7yfjX7ySK"
      },
      "source": [
        "# Método calcula_resto_divisao\n",
        "def calcula_resto_divisao(valor1, valor2):\n",
        "  return valor1 % valor2"
      ],
      "execution_count": null,
      "outputs": []
    },
    {
      "cell_type": "code",
      "metadata": {
        "id": "ZBRD02Fa7u7Z",
        "colab": {
          "base_uri": "https://localhost:8080/"
        },
        "outputId": "26cf7961-afb1-416e-9162-687ab7446f94"
      },
      "source": [
        "# Aplicação dos métodos\n",
        "valor1 = 10\n",
        "valor2 = 20\n",
        "print (calcula_soma(valor1, valor2))\n",
        "print (calcula_subtracao(valor1, valor2))\n",
        "print (calcula_multiplicacao(valor1, valor2))\n",
        "print (calcula_divisao(valor1, valor2))\n",
        "print (calcula_resto_divisao(valor1, valor2))"
      ],
      "execution_count": null,
      "outputs": [
        {
          "output_type": "stream",
          "text": [
            "30\n",
            "-10\n",
            "200\n",
            "0.5\n",
            "10\n"
          ],
          "name": "stdout"
        }
      ]
    },
    {
      "cell_type": "markdown",
      "metadata": {
        "id": "_VhICqnwsWlU"
      },
      "source": [
        "**8 #** Elabore um algoritmo que leia a cotação do dólar, leia um valor em dólares, converta e mostre o valor equivalente em reais. Construa um método para converter e um método para exibir o valor convertido, apresentando os símbolos monetários (R$)."
      ]
    },
    {
      "cell_type": "code",
      "metadata": {
        "id": "lN7giQtwsWqm"
      },
      "source": [
        "# Método converte\n",
        "def converte(cotacao, valor):\n",
        "  return valor * cotacao\n"
      ],
      "execution_count": null,
      "outputs": []
    },
    {
      "cell_type": "code",
      "metadata": {
        "id": "iEmQXu5176Q3"
      },
      "source": [
        "# Método exibe\n",
        "def exibeCotacao(total):\n",
        "  print (\"Valor convertido em reais: R$\", total)"
      ],
      "execution_count": null,
      "outputs": []
    },
    {
      "cell_type": "code",
      "metadata": {
        "id": "GO639DK176Tm",
        "colab": {
          "base_uri": "https://localhost:8080/"
        },
        "outputId": "3dc7b701-51f4-4687-ea10-3f7ec3112159"
      },
      "source": [
        " # Aplicação dos método\n",
        "exibeCotacao(converte(6, 10))"
      ],
      "execution_count": null,
      "outputs": [
        {
          "output_type": "stream",
          "text": [
            "Valor convertido em reais: R$ 60\n"
          ],
          "name": "stdout"
        }
      ]
    },
    {
      "cell_type": "markdown",
      "metadata": {
        "id": "ATLAAvIXsWwd"
      },
      "source": [
        "**9 #** Elabore um algoritmo que solicite um número ao usuário. Caso seja digitado um valor entre 999 e 9999, mostre a mensagem \"*Senha correta!*\"; caso contrário, mostre \"*Senha incorreta!*\"."
      ]
    },
    {
      "cell_type": "code",
      "metadata": {
        "id": "5czUQ9DBsW1t",
        "colab": {
          "base_uri": "https://localhost:8080/"
        },
        "outputId": "aaab58a3-50fe-4eef-a9a4-0949e9b972a5"
      },
      "source": [
        "numero1 = float(input(\"Digite um número\"))\n",
        "if (numero1 >=999 and numero1 <=9999):\n",
        "  print (\"Senha correta!\")\n",
        "else:\n",
        "  print (\"Senha INcorreta!\")"
      ],
      "execution_count": null,
      "outputs": [
        {
          "output_type": "stream",
          "text": [
            "Digite um número9999\n",
            "Senha correta!\n"
          ],
          "name": "stdout"
        }
      ]
    },
    {
      "cell_type": "markdown",
      "metadata": {
        "id": "rTbUxw-LsdEO"
      },
      "source": [
        "**10 #** Elabore um algoritmo que leia uma quantidade N de valores fornecida pelo usuário e calcule a média desses valores."
      ]
    },
    {
      "cell_type": "code",
      "metadata": {
        "id": "aqlU1KAbtJQd",
        "colab": {
          "base_uri": "https://localhost:8080/",
          "height": 731
        },
        "outputId": "d252422c-b1bd-4217-a530-37dc23041b8e"
      },
      "source": [
        "contador = 0\n",
        "total = 0\n",
        "while 1 == 1:\n",
        "  numero1 = float(input(\"Digite um número\"))\n",
        "  total = total + numero1\n",
        "  contador = contador + 1\n",
        "  print (\"Soma: \", total)\n",
        "  print (\"Qtd Número: \", contador)\n",
        "  print (\"Média: \", total/contador)\n"
      ],
      "execution_count": null,
      "outputs": [
        {
          "output_type": "stream",
          "text": [
            "Digite um número2\n",
            "Soma:  2.0\n",
            "Qtd Número:  1\n",
            "Média:  2.0\n",
            "Digite um número3\n",
            "Soma:  5.0\n",
            "Qtd Número:  2\n",
            "Média:  2.5\n",
            "Digite um número4\n",
            "Soma:  9.0\n",
            "Qtd Número:  3\n",
            "Média:  3.0\n"
          ],
          "name": "stdout"
        },
        {
          "output_type": "error",
          "ename": "KeyboardInterrupt",
          "evalue": "ignored",
          "traceback": [
            "\u001b[0;31m---------------------------------------------------------------------------\u001b[0m",
            "\u001b[0;31mKeyboardInterrupt\u001b[0m                         Traceback (most recent call last)",
            "\u001b[0;32m/usr/local/lib/python3.7/dist-packages/ipykernel/kernelbase.py\u001b[0m in \u001b[0;36m_input_request\u001b[0;34m(self, prompt, ident, parent, password)\u001b[0m\n\u001b[1;32m    728\u001b[0m             \u001b[0;32mtry\u001b[0m\u001b[0;34m:\u001b[0m\u001b[0;34m\u001b[0m\u001b[0;34m\u001b[0m\u001b[0m\n\u001b[0;32m--> 729\u001b[0;31m                 \u001b[0mident\u001b[0m\u001b[0;34m,\u001b[0m \u001b[0mreply\u001b[0m \u001b[0;34m=\u001b[0m \u001b[0mself\u001b[0m\u001b[0;34m.\u001b[0m\u001b[0msession\u001b[0m\u001b[0;34m.\u001b[0m\u001b[0mrecv\u001b[0m\u001b[0;34m(\u001b[0m\u001b[0mself\u001b[0m\u001b[0;34m.\u001b[0m\u001b[0mstdin_socket\u001b[0m\u001b[0;34m,\u001b[0m \u001b[0;36m0\u001b[0m\u001b[0;34m)\u001b[0m\u001b[0;34m\u001b[0m\u001b[0;34m\u001b[0m\u001b[0m\n\u001b[0m\u001b[1;32m    730\u001b[0m             \u001b[0;32mexcept\u001b[0m \u001b[0mException\u001b[0m\u001b[0;34m:\u001b[0m\u001b[0;34m\u001b[0m\u001b[0;34m\u001b[0m\u001b[0m\n",
            "\u001b[0;32m/usr/local/lib/python3.7/dist-packages/jupyter_client/session.py\u001b[0m in \u001b[0;36mrecv\u001b[0;34m(self, socket, mode, content, copy)\u001b[0m\n\u001b[1;32m    802\u001b[0m         \u001b[0;32mtry\u001b[0m\u001b[0;34m:\u001b[0m\u001b[0;34m\u001b[0m\u001b[0;34m\u001b[0m\u001b[0m\n\u001b[0;32m--> 803\u001b[0;31m             \u001b[0mmsg_list\u001b[0m \u001b[0;34m=\u001b[0m \u001b[0msocket\u001b[0m\u001b[0;34m.\u001b[0m\u001b[0mrecv_multipart\u001b[0m\u001b[0;34m(\u001b[0m\u001b[0mmode\u001b[0m\u001b[0;34m,\u001b[0m \u001b[0mcopy\u001b[0m\u001b[0;34m=\u001b[0m\u001b[0mcopy\u001b[0m\u001b[0;34m)\u001b[0m\u001b[0;34m\u001b[0m\u001b[0;34m\u001b[0m\u001b[0m\n\u001b[0m\u001b[1;32m    804\u001b[0m         \u001b[0;32mexcept\u001b[0m \u001b[0mzmq\u001b[0m\u001b[0;34m.\u001b[0m\u001b[0mZMQError\u001b[0m \u001b[0;32mas\u001b[0m \u001b[0me\u001b[0m\u001b[0;34m:\u001b[0m\u001b[0;34m\u001b[0m\u001b[0;34m\u001b[0m\u001b[0m\n",
            "\u001b[0;32m/usr/local/lib/python3.7/dist-packages/zmq/sugar/socket.py\u001b[0m in \u001b[0;36mrecv_multipart\u001b[0;34m(self, flags, copy, track)\u001b[0m\n\u001b[1;32m    582\u001b[0m         \"\"\"\n\u001b[0;32m--> 583\u001b[0;31m         \u001b[0mparts\u001b[0m \u001b[0;34m=\u001b[0m \u001b[0;34m[\u001b[0m\u001b[0mself\u001b[0m\u001b[0;34m.\u001b[0m\u001b[0mrecv\u001b[0m\u001b[0;34m(\u001b[0m\u001b[0mflags\u001b[0m\u001b[0;34m,\u001b[0m \u001b[0mcopy\u001b[0m\u001b[0;34m=\u001b[0m\u001b[0mcopy\u001b[0m\u001b[0;34m,\u001b[0m \u001b[0mtrack\u001b[0m\u001b[0;34m=\u001b[0m\u001b[0mtrack\u001b[0m\u001b[0;34m)\u001b[0m\u001b[0;34m]\u001b[0m\u001b[0;34m\u001b[0m\u001b[0;34m\u001b[0m\u001b[0m\n\u001b[0m\u001b[1;32m    584\u001b[0m         \u001b[0;31m# have first part already, only loop while more to receive\u001b[0m\u001b[0;34m\u001b[0m\u001b[0;34m\u001b[0m\u001b[0;34m\u001b[0m\u001b[0m\n",
            "\u001b[0;32mzmq/backend/cython/socket.pyx\u001b[0m in \u001b[0;36mzmq.backend.cython.socket.Socket.recv\u001b[0;34m()\u001b[0m\n",
            "\u001b[0;32mzmq/backend/cython/socket.pyx\u001b[0m in \u001b[0;36mzmq.backend.cython.socket.Socket.recv\u001b[0;34m()\u001b[0m\n",
            "\u001b[0;32mzmq/backend/cython/socket.pyx\u001b[0m in \u001b[0;36mzmq.backend.cython.socket._recv_copy\u001b[0;34m()\u001b[0m\n",
            "\u001b[0;32m/usr/local/lib/python3.7/dist-packages/zmq/backend/cython/checkrc.pxd\u001b[0m in \u001b[0;36mzmq.backend.cython.checkrc._check_rc\u001b[0;34m()\u001b[0m\n",
            "\u001b[0;31mKeyboardInterrupt\u001b[0m: ",
            "\nDuring handling of the above exception, another exception occurred:\n",
            "\u001b[0;31mKeyboardInterrupt\u001b[0m                         Traceback (most recent call last)",
            "\u001b[0;32m<ipython-input-5-f04038858858>\u001b[0m in \u001b[0;36m<module>\u001b[0;34m()\u001b[0m\n\u001b[1;32m      2\u001b[0m \u001b[0mtotal\u001b[0m \u001b[0;34m=\u001b[0m \u001b[0;36m0\u001b[0m\u001b[0;34m\u001b[0m\u001b[0;34m\u001b[0m\u001b[0m\n\u001b[1;32m      3\u001b[0m \u001b[0;32mwhile\u001b[0m \u001b[0;36m1\u001b[0m \u001b[0;34m==\u001b[0m \u001b[0;36m1\u001b[0m\u001b[0;34m:\u001b[0m\u001b[0;34m\u001b[0m\u001b[0;34m\u001b[0m\u001b[0m\n\u001b[0;32m----> 4\u001b[0;31m   \u001b[0mnumero1\u001b[0m \u001b[0;34m=\u001b[0m \u001b[0mfloat\u001b[0m\u001b[0;34m(\u001b[0m\u001b[0minput\u001b[0m\u001b[0;34m(\u001b[0m\u001b[0;34m\"Digite um número\"\u001b[0m\u001b[0;34m)\u001b[0m\u001b[0;34m)\u001b[0m\u001b[0;34m\u001b[0m\u001b[0;34m\u001b[0m\u001b[0m\n\u001b[0m\u001b[1;32m      5\u001b[0m   \u001b[0mtotal\u001b[0m \u001b[0;34m=\u001b[0m \u001b[0mtotal\u001b[0m \u001b[0;34m+\u001b[0m \u001b[0mnumero1\u001b[0m\u001b[0;34m\u001b[0m\u001b[0;34m\u001b[0m\u001b[0m\n\u001b[1;32m      6\u001b[0m   \u001b[0mcontador\u001b[0m \u001b[0;34m=\u001b[0m \u001b[0mcontador\u001b[0m \u001b[0;34m+\u001b[0m \u001b[0;36m1\u001b[0m\u001b[0;34m\u001b[0m\u001b[0;34m\u001b[0m\u001b[0m\n",
            "\u001b[0;32m/usr/local/lib/python3.7/dist-packages/ipykernel/kernelbase.py\u001b[0m in \u001b[0;36mraw_input\u001b[0;34m(self, prompt)\u001b[0m\n\u001b[1;32m    702\u001b[0m             \u001b[0mself\u001b[0m\u001b[0;34m.\u001b[0m\u001b[0m_parent_ident\u001b[0m\u001b[0;34m,\u001b[0m\u001b[0;34m\u001b[0m\u001b[0;34m\u001b[0m\u001b[0m\n\u001b[1;32m    703\u001b[0m             \u001b[0mself\u001b[0m\u001b[0;34m.\u001b[0m\u001b[0m_parent_header\u001b[0m\u001b[0;34m,\u001b[0m\u001b[0;34m\u001b[0m\u001b[0;34m\u001b[0m\u001b[0m\n\u001b[0;32m--> 704\u001b[0;31m             \u001b[0mpassword\u001b[0m\u001b[0;34m=\u001b[0m\u001b[0;32mFalse\u001b[0m\u001b[0;34m,\u001b[0m\u001b[0;34m\u001b[0m\u001b[0;34m\u001b[0m\u001b[0m\n\u001b[0m\u001b[1;32m    705\u001b[0m         )\n\u001b[1;32m    706\u001b[0m \u001b[0;34m\u001b[0m\u001b[0m\n",
            "\u001b[0;32m/usr/local/lib/python3.7/dist-packages/ipykernel/kernelbase.py\u001b[0m in \u001b[0;36m_input_request\u001b[0;34m(self, prompt, ident, parent, password)\u001b[0m\n\u001b[1;32m    732\u001b[0m             \u001b[0;32mexcept\u001b[0m \u001b[0mKeyboardInterrupt\u001b[0m\u001b[0;34m:\u001b[0m\u001b[0;34m\u001b[0m\u001b[0;34m\u001b[0m\u001b[0m\n\u001b[1;32m    733\u001b[0m                 \u001b[0;31m# re-raise KeyboardInterrupt, to truncate traceback\u001b[0m\u001b[0;34m\u001b[0m\u001b[0;34m\u001b[0m\u001b[0;34m\u001b[0m\u001b[0m\n\u001b[0;32m--> 734\u001b[0;31m                 \u001b[0;32mraise\u001b[0m \u001b[0mKeyboardInterrupt\u001b[0m\u001b[0;34m\u001b[0m\u001b[0;34m\u001b[0m\u001b[0m\n\u001b[0m\u001b[1;32m    735\u001b[0m             \u001b[0;32melse\u001b[0m\u001b[0;34m:\u001b[0m\u001b[0;34m\u001b[0m\u001b[0;34m\u001b[0m\u001b[0m\n\u001b[1;32m    736\u001b[0m                 \u001b[0;32mbreak\u001b[0m\u001b[0;34m\u001b[0m\u001b[0;34m\u001b[0m\u001b[0m\n",
            "\u001b[0;31mKeyboardInterrupt\u001b[0m: "
          ]
        }
      ]
    }
  ]
}