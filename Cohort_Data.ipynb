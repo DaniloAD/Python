{
  "nbformat": 4,
  "nbformat_minor": 0,
  "metadata": {
    "colab": {
      "name": "Untitled1.ipynb",
      "provenance": [],
      "collapsed_sections": [],
      "authorship_tag": "ABX9TyMPB35GEioOy+GPd1F73UTh",
      "include_colab_link": true
    },
    "kernelspec": {
      "name": "python3",
      "display_name": "Python 3"
    },
    "language_info": {
      "name": "python"
    }
  },
  "cells": [
    {
      "cell_type": "markdown",
      "metadata": {
        "id": "view-in-github",
        "colab_type": "text"
      },
      "source": [
        "<a href=\"https://colab.research.google.com/github/DaniloAD/Python/blob/main/Cohort_Data.ipynb\" target=\"_parent\"><img src=\"https://colab.research.google.com/assets/colab-badge.svg\" alt=\"Open In Colab\"/></a>"
      ]
    },
    {
      "cell_type": "code",
      "metadata": {
        "colab": {
          "base_uri": "https://localhost:8080/"
        },
        "id": "0rw6qoww5RKJ",
        "outputId": "8523f9a1-b9e8-4fd8-e447-8082ae496c14"
      },
      "source": [
        "import requests\n",
        "import json\n",
        "import pandas as pd\n",
        "import numpy as py\n",
        "\n",
        "\n",
        "headers = {\"X-VTEX-API-AppKey\": \"vtexappkey-panasonic-khzsir\", \"X-VTEX-API-AppToken\": \"SBRWXXWVTRPYTZJEYGQPZJRJKNUVHOQBCQKBIDMAYXHGKSZHDIQRPWXIKHLKDBOFBOWDOHWVTQRBCKZSOMSYXYMFSBRBRCWXJBEWWWSVMVXYFWGZITWRIPHCBQKNQUER\" }\n",
        "url = \"https://panasonic.vtexcommercestable.com.br/api/oms/pvt/orders?f_creationDate=creationDate:[2019-01-29T02:00:00.000Z TO 2019-01-30T01:59:59.999Z]&page=1\"\n",
        "response = requests.get(url, headers=headers)\n",
        "\n",
        "#df = pd.read_json(response.json())\n",
        "\n",
        "jsonResponse = response.json()\n",
        "\n",
        "print(\"Print each key-value pair from JSON response\")\n",
        "#for key, value in jsonResponse.items():\n",
        "#  print(key, \":\", value)\n",
        "\n",
        "for i in range(jsonResponse[\"paging\"][\"total\"]):\n",
        "\n",
        "  print(jsonResponse[\"list\"][i][\"orderId\"])\n",
        "  print(jsonResponse[\"list\"][i][\"clientName\"])\n",
        "  print(jsonResponse[\"list\"][i][\"creationDate\"])\n",
        "  print(jsonResponse[\"list\"][i][\"paymentNames\"])\n",
        "  print(jsonResponse[\"list\"][i][\"statusDescription\"])\n",
        "  print(jsonResponse[\"list\"][i][\"totalItems\"])\n",
        "  print(jsonResponse[\"list\"][i][\"totalValue\"])\n",
        "  print()\n",
        "\n",
        "\n",
        "\n",
        "\n",
        "\n",
        "\n",
        "\n",
        "\n",
        "\n"
      ],
      "execution_count": 33,
      "outputs": [
        {
          "output_type": "stream",
          "name": "stdout",
          "text": [
            "Print each key-value pair from JSON response\n",
            "906950146234-01\n",
            "Francisco Yamamoto\n",
            "2019-01-29T23:02:29.0000000+00:00\n",
            "Visa\n",
            "Faturado\n",
            "1\n",
            "97649.0\n",
            "\n",
            "906940116703-01\n",
            "Bruna Souza\n",
            "2019-01-29T22:02:02.0000000+00:00\n",
            "Mastercard\n",
            "Cancelado\n",
            "1\n",
            "191567.0\n",
            "\n",
            "906912101028-01\n",
            "Felipe Jardim\n",
            "2019-01-29T18:35:07.0000000+00:00\n",
            "Mastercard\n",
            "Faturado\n",
            "1\n",
            "17816.0\n",
            "\n",
            "906893587496-01\n",
            "SILVIO NETO\n",
            "2019-01-29T16:59:45.0000000+00:00\n",
            "Desconto em Folha\n",
            "Faturado\n",
            "1\n",
            "64294.0\n",
            "\n",
            "906871661694-01\n",
            "Gilda Tostes\n",
            "2019-01-29T15:27:46.0000000+00:00\n",
            "Boleto Bancário\n",
            "Faturado\n",
            "1\n",
            "39222.0\n",
            "\n",
            "906853162013-01\n",
            "Vanessa natalia barbosa santana Barbosa\n",
            "2019-01-29T12:52:52.0000000+00:00\n",
            "Desconto em Folha\n",
            "Cancelado\n",
            "2\n",
            "351365.0\n",
            "\n",
            "906841445393-01\n",
            "Arielle Garcia\n",
            "2019-01-29T12:24:12.0000000+00:00\n",
            "Visa\n",
            "Faturado\n",
            "1\n",
            "150723.0\n",
            "\n",
            "906820781700-01\n",
            "Cíntia Bezerra\n",
            "2019-01-29T10:13:06.0000000+00:00\n",
            "Desconto em Folha\n",
            "Faturado\n",
            "1\n",
            "12408.0\n",
            "\n"
          ]
        }
      ]
    }
  ]
}